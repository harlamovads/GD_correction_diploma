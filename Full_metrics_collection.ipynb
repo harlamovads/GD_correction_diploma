{
  "nbformat": 4,
  "nbformat_minor": 0,
  "metadata": {
    "colab": {
      "provenance": []
    },
    "kernelspec": {
      "name": "python3",
      "display_name": "Python 3"
    },
    "language_info": {
      "name": "python"
    }
  },
  "cells": [
    {
      "cell_type": "markdown",
      "source": [
        "## t5-base + REALEC"
      ],
      "metadata": {
        "id": "c4RuBpK6LWn2"
      }
    },
    {
      "cell_type": "code",
      "source": [
        "!errant_compare -hyp /content/preds_m2.txt -ref /content/source_m2.txt"
      ],
      "metadata": {
        "colab": {
          "base_uri": "https://localhost:8080/"
        },
        "outputId": "85b9cfdc-4c5a-4b82-a1c0-3d4373a88705",
        "id": "j7YB5C2aOMWn"
      },
      "execution_count": null,
      "outputs": [
        {
          "output_type": "stream",
          "name": "stdout",
          "text": [
            "\n",
            "=========== Span-Based Correction ============\n",
            "TP\tFP\tFN\tPrec\tRec\tF0.5\n",
            "351\t894\t605\t0.2819\t0.3672\t0.2957\n",
            "==============================================\n",
            "\n"
          ]
        }
      ]
    },
    {
      "cell_type": "code",
      "source": [
        "!errant_compare -hyp /content/preds_m2.txt -ref /content/source_m2.txt -cat {1}"
      ],
      "metadata": {
        "colab": {
          "base_uri": "https://localhost:8080/"
        },
        "outputId": "8e37c8d5-b959-41bb-b9d9-b4eaa4cdcb9d",
        "id": "ZI0QrflDEwG9"
      },
      "execution_count": null,
      "outputs": [
        {
          "output_type": "stream",
          "name": "stdout",
          "text": [
            "\n",
            "===================== Span-Based Correction ======================\n",
            "Category       TP       FP       FN       P        R        F0.5\n",
            "M              74       101      162      0.4229   0.3136   0.3953\n",
            "R              252      658      393      0.2769   0.3907   0.294\n",
            "U              25       135      50       0.1562   0.3333   0.1748\n",
            "\n",
            "=========== Span-Based Correction ============\n",
            "TP\tFP\tFN\tPrec\tRec\tF0.5\n",
            "351\t894\t605\t0.2819\t0.3672\t0.2957\n",
            "==============================================\n",
            "\n"
          ]
        }
      ]
    },
    {
      "cell_type": "code",
      "source": [
        "!errant_compare -hyp /content/preds_m2.txt -ref /content/source_m2.txt -cat {2}"
      ],
      "metadata": {
        "colab": {
          "base_uri": "https://localhost:8080/"
        },
        "outputId": "66fde444-07b2-484f-8d94-76a73337a09b",
        "id": "UVTOruNcEwG-"
      },
      "execution_count": null,
      "outputs": [
        {
          "output_type": "stream",
          "name": "stdout",
          "text": [
            "\n",
            "===================== Span-Based Correction ======================\n",
            "Category       TP       FP       FN       P        R        F0.5\n",
            "ADJ            9        11       4        0.45     0.6923   0.4839\n",
            "ADJ:FORM       0        3        1        0.0      0.0      0.0\n",
            "ADV            5        7        3        0.4167   0.625    0.4464\n",
            "CONJ           2        0        0        1.0      1.0      1.0\n",
            "DET            58       123      177      0.3204   0.2468   0.3024\n",
            "MORPH          13       24       14       0.3514   0.4815   0.3714\n",
            "NOUN           38       128      53       0.2289   0.4176   0.2517\n",
            "NOUN:INFL      0        0        1        1.0      0.0      0.0\n",
            "NOUN:NUM       11       46       31       0.193    0.2619   0.2037\n",
            "NOUN:POSS      0        1        0        0.0      1.0      0.0\n",
            "ORTH           4        132      33       0.0294   0.1081   0.0344\n",
            "OTHER          57       148      58       0.278    0.4957   0.3048\n",
            "PART           1        5        1        0.1667   0.5      0.1923\n",
            "PREP           25       94       28       0.2101   0.4717   0.2363\n",
            "PRON           4        11       1        0.2667   0.8      0.3077\n",
            "PUNCT          6        15       5        0.2857   0.5455   0.3158\n",
            "SPELL          52       19       143      0.7324   0.2667   0.5428\n",
            "VERB           19       32       19       0.3725   0.5      0.3926\n",
            "VERB:FORM      5        14       4        0.2632   0.5556   0.2941\n",
            "VERB:INFL      0        0        1        1.0      0.0      0.0\n",
            "VERB:SVA       0        36       2        0.0      0.0      0.0\n",
            "VERB:TENSE     38       40       23       0.4872   0.623    0.5094\n",
            "WO             4        5        3        0.4444   0.5714   0.4651\n",
            "\n",
            "=========== Span-Based Correction ============\n",
            "TP\tFP\tFN\tPrec\tRec\tF0.5\n",
            "351\t894\t605\t0.2819\t0.3672\t0.2957\n",
            "==============================================\n",
            "\n"
          ]
        }
      ]
    },
    {
      "cell_type": "code",
      "source": [
        "!errant_compare -hyp /content/preds_m2.txt -ref /content/source_m2.txt -cat {3}"
      ],
      "metadata": {
        "colab": {
          "base_uri": "https://localhost:8080/"
        },
        "outputId": "1b4de40f-abf5-42cb-d393-024ec56e9cf9",
        "id": "44bcBH0AEwG-"
      },
      "execution_count": null,
      "outputs": [
        {
          "output_type": "stream",
          "name": "stdout",
          "text": [
            "\n",
            "===================== Span-Based Correction ======================\n",
            "Category       TP       FP       FN       P        R        F0.5\n",
            "M:ADJ          0        3        0        0.0      1.0      0.0\n",
            "M:ADV          0        3        0        0.0      1.0      0.0\n",
            "M:DET          43       40       135      0.5181   0.2416   0.4216\n",
            "M:NOUN         6        8        5        0.4286   0.5455   0.4478\n",
            "M:OTHER        10       12       4        0.4545   0.7143   0.4902\n",
            "M:PART         0        1        0        0.0      1.0      0.0\n",
            "M:PREP         4        20       6        0.1667   0.4      0.1887\n",
            "M:PRON         0        1        0        0.0      1.0      0.0\n",
            "M:PUNCT        6        3        5        0.6667   0.5455   0.6383\n",
            "M:VERB         4        5        5        0.4444   0.4444   0.4444\n",
            "M:VERB:TENSE   1        5        2        0.1667   0.3333   0.1852\n",
            "R:ADJ          8        8        4        0.5      0.6667   0.5263\n",
            "R:ADJ:FORM     0        3        1        0.0      0.0      0.0\n",
            "R:ADV          2        3        0        0.4      1.0      0.4545\n",
            "R:CONJ         1        0        0        1.0      1.0      1.0\n",
            "R:DET          7        15       9        0.3182   0.4375   0.3365\n",
            "R:MORPH        13       24       14       0.3514   0.4815   0.3714\n",
            "R:NOUN         30       114      46       0.2083   0.3947   0.2301\n",
            "R:NOUN:INFL    0        0        1        1.0      0.0      0.0\n",
            "R:NOUN:NUM     11       46       31       0.193    0.2619   0.2037\n",
            "R:NOUN:POSS    0        1        0        0.0      1.0      0.0\n",
            "R:ORTH         4        132      33       0.0294   0.1081   0.0344\n",
            "R:OTHER        43       126      54       0.2544   0.4433   0.2781\n",
            "R:PART         1        3        1        0.25     0.5      0.2778\n",
            "R:PREP         20       56       19       0.2632   0.5128   0.2915\n",
            "R:PRON         2        6        1        0.25     0.6667   0.2857\n",
            "R:PUNCT        0        2        0        0.0      1.0      0.0\n",
            "R:SPELL        52       19       143      0.7324   0.2667   0.5428\n",
            "R:VERB         13       18       10       0.4194   0.5652   0.4422\n",
            "R:VERB:FORM    5        14       4        0.2632   0.5556   0.2941\n",
            "R:VERB:INFL    0        0        1        1.0      0.0      0.0\n",
            "R:VERB:SVA     0        36       2        0.0      0.0      0.0\n",
            "R:VERB:TENSE   36       27       16       0.5714   0.6923   0.5921\n",
            "R:WO           4        5        3        0.4444   0.5714   0.4651\n",
            "U:ADJ          1        0        0        1.0      1.0      1.0\n",
            "U:ADV          3        1        3        0.75     0.5      0.6818\n",
            "U:CONJ         1        0        0        1.0      1.0      1.0\n",
            "U:DET          8        68       33       0.1053   0.1951   0.1159\n",
            "U:NOUN         2        6        2        0.25     0.5      0.2778\n",
            "U:OTHER        4        10       0        0.2857   1.0      0.3333\n",
            "U:PART         0        1        0        0.0      1.0      0.0\n",
            "U:PREP         1        18       3        0.0526   0.25     0.0625\n",
            "U:PRON         2        4        0        0.3333   1.0      0.3846\n",
            "U:PUNCT        0        10       0        0.0      1.0      0.0\n",
            "U:VERB         2        9        4        0.1818   0.3333   0.2\n",
            "U:VERB:TENSE   1        8        5        0.1111   0.1667   0.119\n",
            "\n",
            "=========== Span-Based Correction ============\n",
            "TP\tFP\tFN\tPrec\tRec\tF0.5\n",
            "351\t894\t605\t0.2819\t0.3672\t0.2957\n",
            "==============================================\n",
            "\n"
          ]
        }
      ]
    },
    {
      "cell_type": "code",
      "source": [
        "!errant_compare -hyp /content/preds_m2.txt -ref /content/source_m2.txt -ds"
      ],
      "metadata": {
        "colab": {
          "base_uri": "https://localhost:8080/"
        },
        "outputId": "aa41d841-5e6b-40e3-8af4-eb31e065de08",
        "id": "u-vy6VPoOVLZ"
      },
      "execution_count": null,
      "outputs": [
        {
          "output_type": "stream",
          "name": "stdout",
          "text": [
            "\n",
            "============ Span-Based Detection ============\n",
            "TP\tFP\tFN\tPrec\tRec\tF0.5\n",
            "392\t853\t564\t0.3149\t0.41\t0.3302\n",
            "==============================================\n",
            "\n"
          ]
        }
      ]
    },
    {
      "cell_type": "code",
      "source": [
        "!errant_compare -hyp /content/preds_m2.txt -ref /content/source_m2.txt -ds -cat {1}"
      ],
      "metadata": {
        "outputId": "3e63ba91-2d25-404d-c0b2-98054a7407a1",
        "colab": {
          "base_uri": "https://localhost:8080/"
        },
        "id": "EfPyQEHPEwG_"
      },
      "execution_count": null,
      "outputs": [
        {
          "output_type": "stream",
          "name": "stdout",
          "text": [
            "\n",
            "====================== Span-Based Detection ======================\n",
            "Category       TP       FP       FN       P        R        F0.5\n",
            "M              80       98       156      0.4494   0.339    0.4219\n",
            "R              283      632      362      0.3093   0.4388   0.3287\n",
            "U              29       123      46       0.1908   0.3867   0.2123\n",
            "\n",
            "============ Span-Based Detection ============\n",
            "TP\tFP\tFN\tPrec\tRec\tF0.5\n",
            "392\t853\t564\t0.3149\t0.41\t0.3302\n",
            "==============================================\n",
            "\n"
          ]
        }
      ]
    },
    {
      "cell_type": "code",
      "source": [
        "!errant_compare -hyp /content/preds_m2.txt -ref /content/source_m2.txt -ds -cat {2}"
      ],
      "metadata": {
        "outputId": "ea084424-f8aa-4589-d466-4502f238b8a6",
        "colab": {
          "base_uri": "https://localhost:8080/"
        },
        "id": "Me3vziNCEwHA"
      },
      "execution_count": null,
      "outputs": [
        {
          "output_type": "stream",
          "name": "stdout",
          "text": [
            "\n",
            "====================== Span-Based Detection ======================\n",
            "Category       TP       FP       FN       P        R        F0.5\n",
            "ADJ            9        10       4        0.4737   0.6923   0.5056\n",
            "ADJ:FORM       0        3        1        0.0      0.0      0.0\n",
            "ADV            6        7        2        0.4615   0.75     0.5\n",
            "CONJ           2        0        0        1.0      1.0      1.0\n",
            "DET            63       113      172      0.358    0.2681   0.3355\n",
            "MORPH          18       24       9        0.4286   0.6667   0.4615\n",
            "NOUN           42       124      49       0.253    0.4615   0.2781\n",
            "NOUN:INFL      0        0        1        1.0      0.0      0.0\n",
            "NOUN:NUM       14       45       28       0.2373   0.3333   0.2518\n",
            "NOUN:POSS      0        1        0        0.0      1.0      0.0\n",
            "ORTH           6        132      31       0.0435   0.1622   0.0509\n",
            "OTHER          65       138      50       0.3202   0.5652   0.3506\n",
            "PART           1        5        1        0.1667   0.5      0.1923\n",
            "PREP           27       90       26       0.2308   0.5094   0.2591\n",
            "PRON           5        11       0        0.3125   1.0      0.3623\n",
            "PUNCT          6        12       5        0.3333   0.5455   0.3614\n",
            "SPELL          58       18       137      0.7632   0.2974   0.5812\n",
            "VERB           21       28       17       0.4286   0.5526   0.4487\n",
            "VERB:FORM      5        13       4        0.2778   0.5556   0.3086\n",
            "VERB:INFL      0        0        1        1.0      0.0      0.0\n",
            "VERB:SVA       1        36       1        0.027    0.5      0.0333\n",
            "VERB:TENSE     39       38       22       0.5065   0.6393   0.5285\n",
            "WO             4        5        3        0.4444   0.5714   0.4651\n",
            "\n",
            "============ Span-Based Detection ============\n",
            "TP\tFP\tFN\tPrec\tRec\tF0.5\n",
            "392\t853\t564\t0.3149\t0.41\t0.3302\n",
            "==============================================\n",
            "\n"
          ]
        }
      ]
    },
    {
      "cell_type": "code",
      "source": [
        "!errant_compare -hyp /content/preds_m2.txt -ref /content/source_m2.txt -ds -cat {3}"
      ],
      "metadata": {
        "outputId": "d2bd37c4-e11e-4620-bf91-e181dd0246f2",
        "colab": {
          "base_uri": "https://localhost:8080/"
        },
        "id": "0Mx-22OGEwHB"
      },
      "execution_count": null,
      "outputs": [
        {
          "output_type": "stream",
          "name": "stdout",
          "text": [
            "\n",
            "====================== Span-Based Detection ======================\n",
            "Category       TP       FP       FN       P        R        F0.5\n",
            "M:ADJ          0        3        0        0.0      1.0      0.0\n",
            "M:ADV          0        3        0        0.0      1.0      0.0\n",
            "M:DET          47       40       131      0.5402   0.264    0.4468\n",
            "M:NOUN         7        8        4        0.4667   0.6364   0.493\n",
            "M:OTHER        11       11       3        0.5      0.7857   0.5392\n",
            "M:PART         0        1        0        0.0      1.0      0.0\n",
            "M:PREP         4        19       6        0.1739   0.4      0.1961\n",
            "M:PRON         0        1        0        0.0      1.0      0.0\n",
            "M:PUNCT        6        2        5        0.75     0.5455   0.6977\n",
            "M:VERB         4        5        5        0.4444   0.4444   0.4444\n",
            "M:VERB:TENSE   1        5        2        0.1667   0.3333   0.1852\n",
            "R:ADJ          8        7        4        0.5333   0.6667   0.5556\n",
            "R:ADJ:FORM     0        3        1        0.0      0.0      0.0\n",
            "R:ADV          2        3        0        0.4      1.0      0.4545\n",
            "R:CONJ         1        0        0        1.0      1.0      1.0\n",
            "R:DET          7        14       9        0.3333   0.4375   0.35\n",
            "R:MORPH        18       24       9        0.4286   0.6667   0.4615\n",
            "R:NOUN         33       110      43       0.2308   0.4342   0.2546\n",
            "R:NOUN:INFL    0        0        1        1.0      0.0      0.0\n",
            "R:NOUN:NUM     14       45       28       0.2373   0.3333   0.2518\n",
            "R:NOUN:POSS    0        1        0        0.0      1.0      0.0\n",
            "R:ORTH         6        132      31       0.0435   0.1622   0.0509\n",
            "R:OTHER        50       117      47       0.2994   0.5155   0.3268\n",
            "R:PART         1        3        1        0.25     0.5      0.2778\n",
            "R:PREP         22       54       17       0.2895   0.5641   0.3207\n",
            "R:PRON         3        6        0        0.3333   1.0      0.3846\n",
            "R:PUNCT        0        2        0        0.0      1.0      0.0\n",
            "R:SPELL        58       18       137      0.7632   0.2974   0.5812\n",
            "R:VERB         14       14       9        0.5      0.6087   0.5185\n",
            "R:VERB:FORM    5        13       4        0.2778   0.5556   0.3086\n",
            "R:VERB:INFL    0        0        1        1.0      0.0      0.0\n",
            "R:VERB:SVA     1        36       1        0.027    0.5      0.0333\n",
            "R:VERB:TENSE   36       25       16       0.5902   0.6923   0.6081\n",
            "R:WO           4        5        3        0.4444   0.5714   0.4651\n",
            "U:ADJ          1        0        0        1.0      1.0      1.0\n",
            "U:ADV          4        1        2        0.8      0.6667   0.7692\n",
            "U:CONJ         1        0        0        1.0      1.0      1.0\n",
            "U:DET          9        59       32       0.1324   0.2195   0.1438\n",
            "U:NOUN         2        6        2        0.25     0.5      0.2778\n",
            "U:OTHER        4        10       0        0.2857   1.0      0.3333\n",
            "U:PART         0        1        0        0.0      1.0      0.0\n",
            "U:PREP         1        17       3        0.0556   0.25     0.0658\n",
            "U:PRON         2        4        0        0.3333   1.0      0.3846\n",
            "U:PUNCT        0        8        0        0.0      1.0      0.0\n",
            "U:VERB         3        9        3        0.25     0.5      0.2778\n",
            "U:VERB:TENSE   2        8        4        0.2      0.3333   0.2174\n",
            "\n",
            "============ Span-Based Detection ============\n",
            "TP\tFP\tFN\tPrec\tRec\tF0.5\n",
            "392\t853\t564\t0.3149\t0.41\t0.3302\n",
            "==============================================\n",
            "\n"
          ]
        }
      ]
    },
    {
      "cell_type": "markdown",
      "source": [
        "## t5-base + Llama"
      ],
      "metadata": {
        "id": "ZZmfFXqLLaRZ"
      }
    },
    {
      "cell_type": "code",
      "source": [
        "!errant_compare -hyp /content/preds_m2.txt -ref /content/source_m2.txt"
      ],
      "metadata": {
        "colab": {
          "base_uri": "https://localhost:8080/"
        },
        "outputId": "4a89d544-8e14-4e2b-ae75-d0fb9533c136",
        "id": "mehUBlVDxOhY"
      },
      "execution_count": null,
      "outputs": [
        {
          "output_type": "stream",
          "name": "stdout",
          "text": [
            "\n",
            "=========== Span-Based Correction ============\n",
            "TP\tFP\tFN\tPrec\tRec\tF0.5\n",
            "445\t890\t2266\t0.3333\t0.1641\t0.2764\n",
            "==============================================\n",
            "\n"
          ]
        }
      ]
    },
    {
      "cell_type": "code",
      "execution_count": null,
      "metadata": {
        "colab": {
          "base_uri": "https://localhost:8080/"
        },
        "outputId": "3d9fdd39-8b37-428b-d4de-68a22ae9848c",
        "id": "5TiNRHF5TsbE"
      },
      "outputs": [
        {
          "name": "stdout",
          "output_type": "stream",
          "text": [
            "\n",
            "===================== Span-Based Correction ======================\n",
            "Category       TP       FP       FN       P        R        F0.5\n",
            "M              57       149      352      0.2767   0.1394   0.2311\n",
            "R              325      595      1611     0.3533   0.1679   0.2894\n",
            "U              63       146      303      0.3014   0.1721   0.2621\n",
            "\n",
            "=========== Span-Based Correction ============\n",
            "TP\tFP\tFN\tPrec\tRec\tF0.5\n",
            "445\t890\t2266\t0.3333\t0.1641\t0.2764\n",
            "==============================================\n",
            "\n"
          ]
        }
      ],
      "source": [
        "!errant_compare -hyp /content/preds_m2.txt -ref /content/source_m2.txt -cat {1}"
      ]
    },
    {
      "cell_type": "code",
      "execution_count": null,
      "metadata": {
        "colab": {
          "base_uri": "https://localhost:8080/"
        },
        "outputId": "25ef5178-4162-4848-8783-0cffc1e53f60",
        "id": "vUlZhsmfTsbH"
      },
      "outputs": [
        {
          "name": "stdout",
          "output_type": "stream",
          "text": [
            "\n",
            "===================== Span-Based Correction ======================\n",
            "Category       TP       FP       FN       P        R        F0.5\n",
            "ADJ            20       33       42       0.3774   0.3226   0.365\n",
            "ADJ:FORM       1        1        1        0.5      0.5      0.5\n",
            "ADV            9        21       33       0.3      0.2143   0.2778\n",
            "CONJ           6        5        7        0.5455   0.4615   0.5263\n",
            "DET            31       67       315      0.3163   0.0896   0.21\n",
            "MORPH          7        14       45       0.3333   0.1346   0.2574\n",
            "NOUN           76       146      305      0.3423   0.1995   0.2994\n",
            "NOUN:NUM       6        20       66       0.2308   0.0833   0.1705\n",
            "ORTH           3        3        47       0.5      0.06     0.2027\n",
            "OTHER          170      363      703      0.3189   0.1947   0.2829\n",
            "PART           2        5        9        0.2857   0.1818   0.2564\n",
            "PREP           41       81       237      0.3361   0.1475   0.2676\n",
            "PRON           2        10       17       0.1667   0.1053   0.1493\n",
            "PUNCT          4        5        7        0.4444   0.3636   0.4255\n",
            "SPELL          24       4        191      0.8571   0.1116   0.367\n",
            "VERB           23       68       90       0.2527   0.2035   0.2411\n",
            "VERB:FORM      4        12       37       0.25     0.0976   0.1905\n",
            "VERB:INFL      1        1        4        0.5      0.2      0.3846\n",
            "VERB:SVA       2        6        25       0.25     0.0741   0.1695\n",
            "VERB:TENSE     10       21       64       0.3226   0.1351   0.2525\n",
            "WO             3        4        21       0.4286   0.125    0.2885\n",
            "\n",
            "=========== Span-Based Correction ============\n",
            "TP\tFP\tFN\tPrec\tRec\tF0.5\n",
            "445\t890\t2266\t0.3333\t0.1641\t0.2764\n",
            "==============================================\n",
            "\n"
          ]
        }
      ],
      "source": [
        "!errant_compare -hyp /content/preds_m2.txt -ref /content/source_m2.txt -cat {2}"
      ]
    },
    {
      "cell_type": "code",
      "execution_count": null,
      "metadata": {
        "colab": {
          "base_uri": "https://localhost:8080/"
        },
        "outputId": "8ff971bf-fd0c-472b-c90b-07b889069c49",
        "id": "OnMsMd4VTsbH"
      },
      "outputs": [
        {
          "name": "stdout",
          "output_type": "stream",
          "text": [
            "\n",
            "===================== Span-Based Correction ======================\n",
            "Category       TP       FP       FN       P        R        F0.5\n",
            "M:ADJ          3        7        7        0.3      0.3      0.3\n",
            "M:ADV          1        4        8        0.2      0.1111   0.1724\n",
            "M:CONJ         1        2        2        0.3333   0.3333   0.3333\n",
            "M:DET          9        23       190      0.2812   0.0452   0.1376\n",
            "M:NOUN         9        19       24       0.3214   0.2727   0.3103\n",
            "M:OTHER        18       54       48       0.25     0.2727   0.2542\n",
            "M:PART         0        1        0        0.0      1.0      0.0\n",
            "M:PREP         6        14       39       0.3      0.1333   0.24\n",
            "M:PRON         0        3        2        0.0      0.0      0.0\n",
            "M:PUNCT        2        2        1        0.5      0.6667   0.5263\n",
            "M:VERB         5        12       20       0.2941   0.2      0.2688\n",
            "M:VERB:FORM    0        1        0        0.0      1.0      0.0\n",
            "M:VERB:TENSE   3        7        11       0.3      0.2143   0.2778\n",
            "R:ADJ          17       21       33       0.4474   0.34     0.4208\n",
            "R:ADJ:FORM     1        1        1        0.5      0.5      0.5\n",
            "R:ADV          2        10       10       0.1667   0.1667   0.1667\n",
            "R:CONJ         0        1        1        0.0      0.0      0.0\n",
            "R:DET          13       23       48       0.3611   0.2131   0.3171\n",
            "R:MORPH        7        14       45       0.3333   0.1346   0.2574\n",
            "R:NOUN         54       106      255      0.3375   0.1748   0.2845\n",
            "R:NOUN:NUM     6        20       66       0.2308   0.0833   0.1705\n",
            "R:ORTH         3        3        47       0.5      0.06     0.2027\n",
            "R:OTHER        137      249      565      0.3549   0.1952   0.305\n",
            "R:PART         1        4        7        0.2      0.125    0.1786\n",
            "R:PREP         29       54       140      0.3494   0.1716   0.2894\n",
            "R:PRON         2        3        9        0.4      0.1818   0.3226\n",
            "R:PUNCT        1        0        2        1.0      0.3333   0.7143\n",
            "R:SPELL        24       4        191      0.8571   0.1116   0.367\n",
            "R:VERB         12       48       58       0.2      0.1714   0.1935\n",
            "R:VERB:FORM    4        11       36       0.2667   0.1      0.2\n",
            "R:VERB:INFL    1        1        4        0.5      0.2      0.3846\n",
            "R:VERB:SVA     2        6        25       0.25     0.0741   0.1695\n",
            "R:VERB:TENSE   6        12       47       0.3333   0.1132   0.24\n",
            "R:WO           3        4        21       0.4286   0.125    0.2885\n",
            "U:ADJ          0        5        2        0.0      0.0      0.0\n",
            "U:ADV          6        7        15       0.4615   0.2857   0.411\n",
            "U:CONJ         5        2        4        0.7143   0.5556   0.6757\n",
            "U:DET          9        21       77       0.3      0.1047   0.2184\n",
            "U:NOUN         13       21       26       0.3824   0.3333   0.3714\n",
            "U:OTHER        15       60       90       0.2      0.1429   0.1852\n",
            "U:PART         1        0        2        1.0      0.3333   0.7143\n",
            "U:PREP         6        13       58       0.3158   0.0938   0.2143\n",
            "U:PRON         0        4        6        0.0      0.0      0.0\n",
            "U:PUNCT        1        3        4        0.25     0.2      0.2381\n",
            "U:VERB         6        8        12       0.4286   0.3333   0.4054\n",
            "U:VERB:FORM    0        0        1        1.0      0.0      0.0\n",
            "U:VERB:TENSE   1        2        6        0.3333   0.1429   0.2632\n",
            "\n",
            "=========== Span-Based Correction ============\n",
            "TP\tFP\tFN\tPrec\tRec\tF0.5\n",
            "445\t890\t2266\t0.3333\t0.1641\t0.2764\n",
            "==============================================\n",
            "\n"
          ]
        }
      ],
      "source": [
        "!errant_compare -hyp /content/preds_m2.txt -ref /content/source_m2.txt -cat {3}"
      ]
    },
    {
      "cell_type": "code",
      "source": [
        "!errant_compare -hyp /content/preds_m2.txt -ref /content/source_m2.txt -ds"
      ],
      "metadata": {
        "colab": {
          "base_uri": "https://localhost:8080/"
        },
        "outputId": "2fc229e0-36d0-4333-91be-52c95ff0c6b5",
        "id": "VPH3i6D1xbVe"
      },
      "execution_count": null,
      "outputs": [
        {
          "output_type": "stream",
          "name": "stdout",
          "text": [
            "\n",
            "============ Span-Based Detection ============\n",
            "TP\tFP\tFN\tPrec\tRec\tF0.5\n",
            "624\t711\t2087\t0.4674\t0.2302\t0.3875\n",
            "==============================================\n",
            "\n"
          ]
        }
      ]
    },
    {
      "cell_type": "code",
      "execution_count": null,
      "metadata": {
        "colab": {
          "base_uri": "https://localhost:8080/"
        },
        "outputId": "4d1d239c-4d0f-4d3a-8f68-da13ab946601",
        "id": "wDa8m-jcTvy6"
      },
      "outputs": [
        {
          "name": "stdout",
          "output_type": "stream",
          "text": [
            "\n",
            "====================== Span-Based Detection ======================\n",
            "Category       TP       FP       FN       P        R        F0.5\n",
            "M              63       142      346      0.3073   0.154    0.2563\n",
            "R              478      452      1458     0.514    0.2469   0.4226\n",
            "U              83       117      283      0.415    0.2268   0.3559\n",
            "\n",
            "============ Span-Based Detection ============\n",
            "TP\tFP\tFN\tPrec\tRec\tF0.5\n",
            "624\t711\t2087\t0.4674\t0.2302\t0.3875\n",
            "==============================================\n",
            "\n"
          ]
        }
      ],
      "source": [
        "!errant_compare -hyp /content/preds_m2.txt -ref /content/source_m2.txt -ds -cat {1}"
      ]
    },
    {
      "cell_type": "code",
      "execution_count": null,
      "metadata": {
        "colab": {
          "base_uri": "https://localhost:8080/"
        },
        "outputId": "38f82a69-08ab-41ec-8793-1df00881e1a9",
        "id": "0DB2ZbRKTvy7"
      },
      "outputs": [
        {
          "name": "stdout",
          "output_type": "stream",
          "text": [
            "\n",
            "====================== Span-Based Detection ======================\n",
            "Category       TP       FP       FN       P        R        F0.5\n",
            "ADJ            25       26       37       0.4902   0.4032   0.4699\n",
            "ADJ:FORM       1        1        1        0.5      0.5      0.5\n",
            "ADV            14       17       28       0.4516   0.3333   0.4217\n",
            "CONJ           8        3        5        0.7273   0.6154   0.7018\n",
            "DET            42       53       304      0.4421   0.1214   0.2893\n",
            "MORPH          13       10       39       0.5652   0.25     0.4514\n",
            "NOUN           101      123      280      0.4509   0.2651   0.3955\n",
            "NOUN:NUM       9        12       63       0.4286   0.125    0.2885\n",
            "ORTH           4        3        46       0.5714   0.08     0.2564\n",
            "OTHER          242      293      631      0.4523   0.2772   0.4016\n",
            "PART           2        4        9        0.3333   0.1818   0.2857\n",
            "PREP           63       58       215      0.5207   0.2266   0.4134\n",
            "PRON           3        8        16       0.2727   0.1579   0.2381\n",
            "PUNCT          5        4        6        0.5556   0.4545   0.5319\n",
            "SPELL          35       3        180      0.9211   0.1628   0.4768\n",
            "VERB           32       54       81       0.3721   0.2832   0.3501\n",
            "VERB:FORM      5        11       36       0.3125   0.122    0.2381\n",
            "VERB:INFL      1        0        4        1.0      0.2      0.5556\n",
            "VERB:SVA       5        6        22       0.4545   0.1852   0.3521\n",
            "VERB:TENSE     11       18       63       0.3793   0.1486   0.2895\n",
            "WO             3        4        21       0.4286   0.125    0.2885\n",
            "\n",
            "============ Span-Based Detection ============\n",
            "TP\tFP\tFN\tPrec\tRec\tF0.5\n",
            "624\t711\t2087\t0.4674\t0.2302\t0.3875\n",
            "==============================================\n",
            "\n"
          ]
        }
      ],
      "source": [
        "!errant_compare -hyp /content/preds_m2.txt -ref /content/source_m2.txt -ds -cat {2}"
      ]
    },
    {
      "cell_type": "code",
      "execution_count": null,
      "metadata": {
        "colab": {
          "base_uri": "https://localhost:8080/"
        },
        "outputId": "77675928-ca03-46ba-c4dc-c8d5079d07ac",
        "id": "37FM6aCzTvy7"
      },
      "outputs": [
        {
          "name": "stdout",
          "output_type": "stream",
          "text": [
            "\n",
            "====================== Span-Based Detection ======================\n",
            "Category       TP       FP       FN       P        R        F0.5\n",
            "M:ADJ          3        7        7        0.3      0.3      0.3\n",
            "M:ADV          1        4        8        0.2      0.1111   0.1724\n",
            "M:CONJ         1        2        2        0.3333   0.3333   0.3333\n",
            "M:DET          12       23       187      0.3429   0.0603   0.177\n",
            "M:NOUN         9        19       24       0.3214   0.2727   0.3103\n",
            "M:OTHER        20       48       46       0.2941   0.303    0.2959\n",
            "M:PART         0        1        0        0.0      1.0      0.0\n",
            "M:PREP         7        13       38       0.35     0.1556   0.28\n",
            "M:PRON         0        3        2        0.0      0.0      0.0\n",
            "M:PUNCT        2        2        1        0.5      0.6667   0.5263\n",
            "M:VERB         5        12       20       0.2941   0.2      0.2688\n",
            "M:VERB:FORM    0        1        0        0.0      1.0      0.0\n",
            "M:VERB:TENSE   3        7        11       0.3      0.2143   0.2778\n",
            "R:ADJ          20       17       30       0.5405   0.4      0.5051\n",
            "R:ADJ:FORM     1        1        1        0.5      0.5      0.5\n",
            "R:ADV          4        8        8        0.3333   0.3333   0.3333\n",
            "R:CONJ         1        0        0        1.0      1.0      1.0\n",
            "R:DET          17       15       44       0.5312   0.2787   0.4497\n",
            "R:MORPH        13       10       39       0.5652   0.25     0.4514\n",
            "R:NOUN         78       87       231      0.4727   0.2524   0.4025\n",
            "R:NOUN:NUM     9        12       63       0.4286   0.125    0.2885\n",
            "R:ORTH         4        3        46       0.5714   0.08     0.2564\n",
            "R:OTHER        204      188      498      0.5204   0.2906   0.4493\n",
            "R:PART         1        3        7        0.25     0.125    0.2083\n",
            "R:PREP         47       36       122      0.5663   0.2781   0.4691\n",
            "R:PRON         2        2        9        0.5      0.1818   0.3704\n",
            "R:PUNCT        1        0        2        1.0      0.3333   0.7143\n",
            "R:SPELL        35       3        180      0.9211   0.1628   0.4768\n",
            "R:VERB         20       37       50       0.3509   0.2857   0.3356\n",
            "R:VERB:FORM    5        10       35       0.3333   0.125    0.25\n",
            "R:VERB:INFL    1        0        4        1.0      0.2      0.5556\n",
            "R:VERB:SVA     5        6        22       0.4545   0.1852   0.3521\n",
            "R:VERB:TENSE   7        10       46       0.4118   0.1321   0.2893\n",
            "R:WO           3        4        21       0.4286   0.125    0.2885\n",
            "U:ADJ          2        2        0        0.5      1.0      0.5556\n",
            "U:ADV          9        5        12       0.6429   0.4286   0.5844\n",
            "U:CONJ         6        1        3        0.8571   0.6667   0.8108\n",
            "U:DET          13       15       73       0.4643   0.1512   0.3283\n",
            "U:NOUN         14       17       25       0.4516   0.359    0.4294\n",
            "U:OTHER        18       57       87       0.24     0.1714   0.2222\n",
            "U:PART         1        0        2        1.0      0.3333   0.7143\n",
            "U:PREP         9        9        55       0.5      0.1406   0.3309\n",
            "U:PRON         1        3        5        0.25     0.1667   0.2273\n",
            "U:PUNCT        2        2        3        0.5      0.4      0.4762\n",
            "U:VERB         7        5        11       0.5833   0.3889   0.5303\n",
            "U:VERB:FORM    0        0        1        1.0      0.0      0.0\n",
            "U:VERB:TENSE   1        1        6        0.5      0.1429   0.3333\n",
            "\n",
            "============ Span-Based Detection ============\n",
            "TP\tFP\tFN\tPrec\tRec\tF0.5\n",
            "624\t711\t2087\t0.4674\t0.2302\t0.3875\n",
            "==============================================\n",
            "\n"
          ]
        }
      ],
      "source": [
        "!errant_compare -hyp /content/preds_m2.txt -ref /content/source_m2.txt -ds -cat {3}"
      ]
    },
    {
      "cell_type": "markdown",
      "source": [
        "## t5-base + GED + GEC + REALEC"
      ],
      "metadata": {
        "id": "8YXWUIInLdYT"
      }
    },
    {
      "cell_type": "code",
      "source": [
        "!errant_compare -hyp /content/preds_m2.txt -ref /content/source_m2.txt"
      ],
      "metadata": {
        "colab": {
          "base_uri": "https://localhost:8080/"
        },
        "outputId": "6dfc0cc0-7ac6-4df5-f397-7fe3e754ecbb",
        "id": "0ysfFa_ZtKUG"
      },
      "execution_count": null,
      "outputs": [
        {
          "output_type": "stream",
          "name": "stdout",
          "text": [
            "\n",
            "=========== Span-Based Correction ============\n",
            "TP\tFP\tFN\tPrec\tRec\tF0.5\n",
            "414\t543\t542\t0.4326\t0.4331\t0.4327\n",
            "==============================================\n",
            "\n"
          ]
        }
      ]
    },
    {
      "cell_type": "code",
      "source": [
        "!errant_compare -hyp /content/preds_m2.txt -ref /content/source_m2.txt -cat {1}"
      ],
      "metadata": {
        "colab": {
          "base_uri": "https://localhost:8080/"
        },
        "outputId": "fd9ecc5b-0154-4a06-ffc5-8c0f13e55760",
        "id": "uC-5Qh2nrpaA"
      },
      "execution_count": null,
      "outputs": [
        {
          "output_type": "stream",
          "name": "stdout",
          "text": [
            "\n",
            "===================== Span-Based Correction ======================\n",
            "Category       TP       FP       FN       P        R        F0.5\n",
            "M              76       73       160      0.5101   0.322    0.4567\n",
            "R              310      387      335      0.4448   0.4806   0.4515\n",
            "U              28       83       47       0.2523   0.3733   0.2697\n",
            "\n",
            "=========== Span-Based Correction ============\n",
            "TP\tFP\tFN\tPrec\tRec\tF0.5\n",
            "414\t543\t542\t0.4326\t0.4331\t0.4327\n",
            "==============================================\n",
            "\n"
          ]
        }
      ]
    },
    {
      "cell_type": "code",
      "source": [
        "!errant_compare -hyp /content/preds_m2.txt -ref /content/source_m2.txt -cat {2}"
      ],
      "metadata": {
        "colab": {
          "base_uri": "https://localhost:8080/"
        },
        "outputId": "31ce6930-aa80-4bef-fb7c-be992b5205e4",
        "id": "C0GdFTy0rpaB"
      },
      "execution_count": null,
      "outputs": [
        {
          "output_type": "stream",
          "name": "stdout",
          "text": [
            "\n",
            "===================== Span-Based Correction ======================\n",
            "Category       TP       FP       FN       P        R        F0.5\n",
            "ADJ            8        14       5        0.3636   0.6154   0.396\n",
            "ADJ:FORM       0        1        1        0.0      0.0      0.0\n",
            "ADV            6        7        2        0.4615   0.75     0.5\n",
            "CONJ           2        1        0        0.6667   1.0      0.7143\n",
            "DET            61       69       174      0.4692   0.2596   0.404\n",
            "MORPH          12       18       15       0.4      0.4444   0.4082\n",
            "NOUN           46       98       45       0.3194   0.5055   0.3448\n",
            "NOUN:INFL      0        0        1        1.0      0.0      0.0\n",
            "NOUN:NUM       14       22       28       0.3889   0.3333   0.3763\n",
            "ORTH           12       11       25       0.5217   0.3243   0.4651\n",
            "OTHER          72       193      43       0.2717   0.6261   0.3064\n",
            "PART           1        1        1        0.5      0.5      0.5\n",
            "PREP           35       36       18       0.493    0.6604   0.5193\n",
            "PRON           4        1        1        0.8      0.8      0.8\n",
            "PUNCT          7        6        4        0.5385   0.6364   0.5556\n",
            "SPELL          63       14       132      0.8182   0.3231   0.6262\n",
            "VERB           24       21       14       0.5333   0.6316   0.5505\n",
            "VERB:FORM      3        7        6        0.3      0.3333   0.3061\n",
            "VERB:INFL      0        0        1        1.0      0.0      0.0\n",
            "VERB:SVA       0        2        2        0.0      0.0      0.0\n",
            "VERB:TENSE     39       19       22       0.6724   0.6393   0.6655\n",
            "WO             5        2        2        0.7143   0.7143   0.7143\n",
            "\n",
            "=========== Span-Based Correction ============\n",
            "TP\tFP\tFN\tPrec\tRec\tF0.5\n",
            "414\t543\t542\t0.4326\t0.4331\t0.4327\n",
            "==============================================\n",
            "\n"
          ]
        }
      ]
    },
    {
      "cell_type": "code",
      "source": [
        "!errant_compare -hyp /content/preds_m2.txt -ref /content/source_m2.txt -cat {3}"
      ],
      "metadata": {
        "colab": {
          "base_uri": "https://localhost:8080/"
        },
        "outputId": "b57e5f29-b2d2-401e-8800-b3cc849b4845",
        "id": "XYIeqveVrpaB"
      },
      "execution_count": null,
      "outputs": [
        {
          "output_type": "stream",
          "name": "stdout",
          "text": [
            "\n",
            "===================== Span-Based Correction ======================\n",
            "Category       TP       FP       FN       P        R        F0.5\n",
            "M:ADJ          0        1        0        0.0      1.0      0.0\n",
            "M:ADV          0        1        0        0.0      1.0      0.0\n",
            "M:DET          41       22       137      0.6508   0.2303   0.4767\n",
            "M:NOUN         7        11       4        0.3889   0.6364   0.4217\n",
            "M:OTHER        8        21       6        0.2759   0.5714   0.3077\n",
            "M:PREP         5        6        5        0.4545   0.5      0.463\n",
            "M:PUNCT        7        4        4        0.6364   0.6364   0.6364\n",
            "M:VERB         6        6        3        0.5      0.6667   0.5263\n",
            "M:VERB:TENSE   2        1        1        0.6667   0.6667   0.6667\n",
            "R:ADJ          7        12       5        0.3684   0.5833   0.3977\n",
            "R:ADJ:FORM     0        1        1        0.0      0.0      0.0\n",
            "R:ADV          2        4        0        0.3333   1.0      0.3846\n",
            "R:CONJ         1        0        0        1.0      1.0      1.0\n",
            "R:DET          9        11       7        0.45     0.5625   0.4687\n",
            "R:MORPH        12       18       15       0.4      0.4444   0.4082\n",
            "R:NOUN         37       81       39       0.3136   0.4868   0.3376\n",
            "R:NOUN:INFL    0        0        1        1.0      0.0      0.0\n",
            "R:NOUN:NUM     14       22       28       0.3889   0.3333   0.3763\n",
            "R:ORTH         12       11       25       0.5217   0.3243   0.4651\n",
            "R:OTHER        61       155      36       0.2824   0.6289   0.3174\n",
            "R:PART         1        1        1        0.5      0.5      0.5\n",
            "R:PREP         29       16       10       0.6444   0.7436   0.6621\n",
            "R:PRON         3        0        0        1.0      1.0      1.0\n",
            "R:PUNCT        0        2        0        0.0      1.0      0.0\n",
            "R:SPELL        63       14       132      0.8182   0.3231   0.6262\n",
            "R:VERB         16       13       7        0.5517   0.6957   0.5755\n",
            "R:VERB:FORM    3        6        6        0.3333   0.3333   0.3333\n",
            "R:VERB:INFL    0        0        1        1.0      0.0      0.0\n",
            "R:VERB:SVA     0        2        2        0.0      0.0      0.0\n",
            "R:VERB:TENSE   35       16       17       0.6863   0.6731   0.6836\n",
            "R:WO           5        2        2        0.7143   0.7143   0.7143\n",
            "U:ADJ          1        1        0        0.5      1.0      0.5556\n",
            "U:ADV          4        2        2        0.6667   0.6667   0.6667\n",
            "U:CONJ         1        1        0        0.5      1.0      0.5556\n",
            "U:DET          11       36       30       0.234    0.2683   0.2402\n",
            "U:NOUN         2        6        2        0.25     0.5      0.2778\n",
            "U:OTHER        3        17       1        0.15     0.75     0.1786\n",
            "U:PREP         1        14       3        0.0667   0.25     0.0781\n",
            "U:PRON         1        1        1        0.5      0.5      0.5\n",
            "U:VERB         2        2        4        0.5      0.3333   0.4545\n",
            "U:VERB:FORM    0        1        0        0.0      1.0      0.0\n",
            "U:VERB:TENSE   2        2        4        0.5      0.3333   0.4545\n",
            "\n",
            "=========== Span-Based Correction ============\n",
            "TP\tFP\tFN\tPrec\tRec\tF0.5\n",
            "414\t543\t542\t0.4326\t0.4331\t0.4327\n",
            "==============================================\n",
            "\n"
          ]
        }
      ]
    },
    {
      "cell_type": "code",
      "source": [
        "!errant_compare -hyp /content/preds_m2.txt -ref /content/source_m2.txt -ds"
      ],
      "metadata": {
        "colab": {
          "base_uri": "https://localhost:8080/"
        },
        "outputId": "1dab9471-5245-4a08-bad7-bdcaacf034ca",
        "id": "WhYAWsXdtOkU"
      },
      "execution_count": null,
      "outputs": [
        {
          "output_type": "stream",
          "name": "stdout",
          "text": [
            "\n",
            "============ Span-Based Detection ============\n",
            "TP\tFP\tFN\tPrec\tRec\tF0.5\n",
            "443\t514\t513\t0.4629\t0.4634\t0.463\n",
            "==============================================\n",
            "\n"
          ]
        }
      ]
    },
    {
      "cell_type": "code",
      "source": [
        "!errant_compare -hyp /content/preds_m2.txt -ref /content/source_m2.txt -ds -cat {1}"
      ],
      "metadata": {
        "outputId": "333a3262-fc13-441b-b5e5-c3fabb515396",
        "colab": {
          "base_uri": "https://localhost:8080/"
        },
        "id": "a8OzB293rsZn"
      },
      "execution_count": null,
      "outputs": [
        {
          "output_type": "stream",
          "name": "stdout",
          "text": [
            "\n",
            "====================== Span-Based Detection ======================\n",
            "Category       TP       FP       FN       P        R        F0.5\n",
            "M              79       71       157      0.5267   0.3347   0.4725\n",
            "R              332      365      313      0.4763   0.5147   0.4835\n",
            "U              32       78       43       0.2909   0.4267   0.3107\n",
            "\n",
            "============ Span-Based Detection ============\n",
            "TP\tFP\tFN\tPrec\tRec\tF0.5\n",
            "443\t514\t513\t0.4629\t0.4634\t0.463\n",
            "==============================================\n",
            "\n"
          ]
        }
      ]
    },
    {
      "cell_type": "code",
      "source": [
        "!errant_compare -hyp /content/preds_m2.txt -ref /content/source_m2.txt -ds -cat {2}"
      ],
      "metadata": {
        "outputId": "c383f0a1-e714-4833-9b6c-445a9eef35a6",
        "colab": {
          "base_uri": "https://localhost:8080/"
        },
        "id": "egoaBnnOrsZq"
      },
      "execution_count": null,
      "outputs": [
        {
          "output_type": "stream",
          "name": "stdout",
          "text": [
            "\n",
            "====================== Span-Based Detection ======================\n",
            "Category       TP       FP       FN       P        R        F0.5\n",
            "ADJ            9        13       4        0.4091   0.6923   0.4455\n",
            "ADJ:FORM       0        1        1        0.0      0.0      0.0\n",
            "ADV            6        7        2        0.4615   0.75     0.5\n",
            "CONJ           2        1        0        0.6667   1.0      0.7143\n",
            "DET            64       64       171      0.5      0.2723   0.4284\n",
            "MORPH          15       18       12       0.4545   0.5556   0.4717\n",
            "NOUN           49       96       42       0.3379   0.5385   0.3651\n",
            "NOUN:INFL      0        0        1        1.0      0.0      0.0\n",
            "NOUN:NUM       16       21       26       0.4324   0.381    0.4211\n",
            "ORTH           13       10       24       0.5652   0.3514   0.5039\n",
            "OTHER          77       182      38       0.2973   0.6696   0.3345\n",
            "PART           2        1        0        0.6667   1.0      0.7143\n",
            "PREP           35       35       18       0.5      0.6604   0.5255\n",
            "PRON           4        1        1        0.8      0.8      0.8\n",
            "PUNCT          7        5        4        0.5833   0.6364   0.5932\n",
            "SPELL          70       13       125      0.8434   0.359    0.6641\n",
            "VERB           25       20       13       0.5556   0.6579   0.5734\n",
            "VERB:FORM      3        6        6        0.3333   0.3333   0.3333\n",
            "VERB:INFL      0        0        1        1.0      0.0      0.0\n",
            "VERB:SVA       1        2        1        0.3333   0.5      0.3571\n",
            "VERB:TENSE     40       16       21       0.7143   0.6557   0.7018\n",
            "WO             5        2        2        0.7143   0.7143   0.7143\n",
            "\n",
            "============ Span-Based Detection ============\n",
            "TP\tFP\tFN\tPrec\tRec\tF0.5\n",
            "443\t514\t513\t0.4629\t0.4634\t0.463\n",
            "==============================================\n",
            "\n"
          ]
        }
      ]
    },
    {
      "cell_type": "code",
      "source": [
        "!errant_compare -hyp /content/preds_m2.txt -ref /content/source_m2.txt -ds -cat {3}"
      ],
      "metadata": {
        "outputId": "b55441de-65de-4ed5-dfbd-9ac02203b3a3",
        "colab": {
          "base_uri": "https://localhost:8080/"
        },
        "id": "c80aXf4YrsZq"
      },
      "execution_count": null,
      "outputs": [
        {
          "output_type": "stream",
          "name": "stdout",
          "text": [
            "\n",
            "====================== Span-Based Detection ======================\n",
            "Category       TP       FP       FN       P        R        F0.5\n",
            "M:ADJ          0        1        0        0.0      1.0      0.0\n",
            "M:ADV          0        1        0        0.0      1.0      0.0\n",
            "M:DET          43       22       135      0.6615   0.2416   0.4909\n",
            "M:NOUN         8        11       3        0.4211   0.7273   0.4598\n",
            "M:OTHER        8        20       6        0.2857   0.5714   0.3175\n",
            "M:PREP         5        6        5        0.4545   0.5      0.463\n",
            "M:PUNCT        7        3        4        0.7      0.6364   0.6863\n",
            "M:VERB         6        6        3        0.5      0.6667   0.5263\n",
            "M:VERB:TENSE   2        1        1        0.6667   0.6667   0.6667\n",
            "R:ADJ          8        11       4        0.4211   0.6667   0.4545\n",
            "R:ADJ:FORM     0        1        1        0.0      0.0      0.0\n",
            "R:ADV          2        4        0        0.3333   1.0      0.3846\n",
            "R:CONJ         1        0        0        1.0      1.0      1.0\n",
            "R:DET          9        10       7        0.4737   0.5625   0.4891\n",
            "R:MORPH        15       18       12       0.4545   0.5556   0.4717\n",
            "R:NOUN         38       79       38       0.3248   0.5      0.3493\n",
            "R:NOUN:INFL    0        0        1        1.0      0.0      0.0\n",
            "R:NOUN:NUM     16       21       26       0.4324   0.381    0.4211\n",
            "R:ORTH         13       10       24       0.5652   0.3514   0.5039\n",
            "R:OTHER        66       145      31       0.3128   0.6804   0.3507\n",
            "R:PART         2        1        0        0.6667   1.0      0.7143\n",
            "R:PREP         29       16       10       0.6444   0.7436   0.6621\n",
            "R:PRON         3        0        0        1.0      1.0      1.0\n",
            "R:PUNCT        0        2        0        0.0      1.0      0.0\n",
            "R:SPELL        70       13       125      0.8434   0.359    0.6641\n",
            "R:VERB         16       12       7        0.5714   0.6957   0.5926\n",
            "R:VERB:FORM    3        5        6        0.375    0.3333   0.3659\n",
            "R:VERB:INFL    0        0        1        1.0      0.0      0.0\n",
            "R:VERB:SVA     1        2        1        0.3333   0.5      0.3571\n",
            "R:VERB:TENSE   35       13       17       0.7292   0.6731   0.7172\n",
            "R:WO           5        2        2        0.7143   0.7143   0.7143\n",
            "U:ADJ          1        1        0        0.5      1.0      0.5556\n",
            "U:ADV          4        2        2        0.6667   0.6667   0.6667\n",
            "U:CONJ         1        1        0        0.5      1.0      0.5556\n",
            "U:DET          12       32       29       0.2727   0.2927   0.2765\n",
            "U:NOUN         3        6        1        0.3333   0.75     0.375\n",
            "U:OTHER        3        17       1        0.15     0.75     0.1786\n",
            "U:PREP         1        13       3        0.0714   0.25     0.0833\n",
            "U:PRON         1        1        1        0.5      0.5      0.5\n",
            "U:VERB         3        2        3        0.6      0.5      0.5769\n",
            "U:VERB:FORM    0        1        0        0.0      1.0      0.0\n",
            "U:VERB:TENSE   3        2        3        0.6      0.5      0.5769\n",
            "\n",
            "============ Span-Based Detection ============\n",
            "TP\tFP\tFN\tPrec\tRec\tF0.5\n",
            "443\t514\t513\t0.4629\t0.4634\t0.463\n",
            "==============================================\n",
            "\n"
          ]
        }
      ]
    },
    {
      "cell_type": "markdown",
      "source": [
        "## t5-base + GED + GEC + Llama"
      ],
      "metadata": {
        "id": "PcylqlkcLjdd"
      }
    },
    {
      "cell_type": "code",
      "source": [
        "!errant_compare -hyp /content/preds_m2.txt -ref /content/source_m2.txt -cat {1}"
      ],
      "metadata": {
        "colab": {
          "base_uri": "https://localhost:8080/"
        },
        "outputId": "4d1fa46b-cef6-4db2-b469-d6cf8c45edf7",
        "id": "_JBLrhKba_FU"
      },
      "execution_count": null,
      "outputs": [
        {
          "metadata": {
            "tags": null
          },
          "name": "stdout",
          "output_type": "stream",
          "text": [
            "\n",
            "===================== Span-Based Correction ======================\n",
            "Category       TP       FP       FN       P        R        F0.5\n",
            "M              103      30       133      0.7744   0.4364   0.6706\n",
            "R              365      130      280      0.7374   0.5659   0.6952\n",
            "U              38       42       37       0.475    0.5067   0.481\n",
            "\n",
            "=========== Span-Based Correction ============\n",
            "TP\tFP\tFN\tPrec\tRec\tF0.5\n",
            "506\t202\t450\t0.7147\t0.5293\t0.6679\n",
            "==============================================\n",
            "\n"
          ]
        }
      ]
    },
    {
      "cell_type": "code",
      "source": [
        "!errant_compare -hyp /content/preds_m2.txt -ref /content/source_m2.txt -cat {2}"
      ],
      "metadata": {
        "colab": {
          "base_uri": "https://localhost:8080/"
        },
        "outputId": "b612fbaf-0fed-4fe5-8af9-ad95d4b0b06a",
        "id": "yLO83HdIa_FV"
      },
      "execution_count": null,
      "outputs": [
        {
          "metadata": {
            "tags": null
          },
          "name": "stdout",
          "output_type": "stream",
          "text": [
            "\n",
            "===================== Span-Based Correction ======================\n",
            "Category       TP       FP       FN       P        R        F0.5\n",
            "ADJ            12       3        1        0.8      0.9231   0.8219\n",
            "ADJ:FORM       0        3        1        0.0      0.0      0.0\n",
            "ADV            8        0        0        1.0      1.0      1.0\n",
            "CONJ           2        0        0        1.0      1.0      1.0\n",
            "DET            75       59       160      0.5597   0.3191   0.4864\n",
            "MORPH          20       10       7        0.6667   0.7407   0.6803\n",
            "NOUN           59       29       32       0.6705   0.6484   0.6659\n",
            "NOUN:INFL      0        0        1        1.0      0.0      0.0\n",
            "NOUN:NUM       19       17       23       0.5278   0.4524   0.5108\n",
            "ORTH           12       5        25       0.7059   0.3243   0.5714\n",
            "OTHER          93       25       22       0.7881   0.8087   0.7922\n",
            "PART           1        1        1        0.5      0.5      0.5\n",
            "PREP           43       10       10       0.8113   0.8113   0.8113\n",
            "PRON           5        0        0        1.0      1.0      1.0\n",
            "PUNCT          10       1        1        0.9091   0.9091   0.9091\n",
            "SPELL          59       9        136      0.8676   0.3026   0.6317\n",
            "VERB           31       7        7        0.8158   0.8158   0.8158\n",
            "VERB:FORM      4        4        5        0.5      0.4444   0.4878\n",
            "VERB:INFL      0        0        1        1.0      0.0      0.0\n",
            "VERB:SVA       2        2        0        0.5      1.0      0.5556\n",
            "VERB:TENSE     46       15       15       0.7541   0.7541   0.7541\n",
            "WO             5        2        2        0.7143   0.7143   0.7143\n",
            "\n",
            "=========== Span-Based Correction ============\n",
            "TP\tFP\tFN\tPrec\tRec\tF0.5\n",
            "506\t202\t450\t0.7147\t0.5293\t0.6679\n",
            "==============================================\n",
            "\n"
          ]
        }
      ]
    },
    {
      "cell_type": "code",
      "source": [
        "!errant_compare -hyp /content/preds_m2.txt -ref /content/source_m2.txt -cat {3}"
      ],
      "metadata": {
        "colab": {
          "base_uri": "https://localhost:8080/"
        },
        "outputId": "38ea9cf8-c242-46d7-86f8-3fc1b257537a",
        "id": "GMnQx0Rea_FW"
      },
      "execution_count": null,
      "outputs": [
        {
          "output_type": "stream",
          "name": "stdout",
          "text": [
            "\n",
            "===================== Span-Based Correction ======================\n",
            "Category       TP       FP       FN       P        R        F0.5\n",
            "M:DET          54       19       124      0.7397   0.3034   0.5745\n",
            "M:NOUN         8        3        3        0.7273   0.7273   0.7273\n",
            "M:OTHER        13       2        1        0.8667   0.9286   0.8784\n",
            "M:PREP         7        3        3        0.7      0.7      0.7\n",
            "M:PUNCT        10       1        1        0.9091   0.9091   0.9091\n",
            "M:VERB         9        1        0        0.9      1.0      0.9184\n",
            "M:VERB:TENSE   2        1        1        0.6667   0.6667   0.6667\n",
            "R:ADJ          11       3        1        0.7857   0.9167   0.8088\n",
            "R:ADJ:FORM     0        3        1        0.0      0.0      0.0\n",
            "R:ADV          2        0        0        1.0      1.0      1.0\n",
            "R:CONJ         1        0        0        1.0      1.0      1.0\n",
            "R:DET          10       5        6        0.6667   0.625    0.6579\n",
            "R:MORPH        20       10       7        0.6667   0.7407   0.6803\n",
            "R:NOUN         48       25       28       0.6575   0.6316   0.6522\n",
            "R:NOUN:INFL    0        0        1        1.0      0.0      0.0\n",
            "R:NOUN:NUM     19       17       23       0.5278   0.4524   0.5108\n",
            "R:ORTH         12       5        25       0.7059   0.3243   0.5714\n",
            "R:OTHER        76       21       21       0.7835   0.7835   0.7835\n",
            "R:PART         1        1        1        0.5      0.5      0.5\n",
            "R:PREP         32       6        7        0.8421   0.8205   0.8377\n",
            "R:PRON         3        0        0        1.0      1.0      1.0\n",
            "R:SPELL        59       9        136      0.8676   0.3026   0.6317\n",
            "R:VERB         18       5        5        0.7826   0.7826   0.7826\n",
            "R:VERB:FORM    4        4        5        0.5      0.4444   0.4878\n",
            "R:VERB:INFL    0        0        1        1.0      0.0      0.0\n",
            "R:VERB:SVA     2        2        0        0.5      1.0      0.5556\n",
            "R:VERB:TENSE   42       12       10       0.7778   0.8077   0.7836\n",
            "R:WO           5        2        2        0.7143   0.7143   0.7143\n",
            "U:ADJ          1        0        0        1.0      1.0      1.0\n",
            "U:ADV          6        0        0        1.0      1.0      1.0\n",
            "U:CONJ         1        0        0        1.0      1.0      1.0\n",
            "U:DET          11       35       30       0.2391   0.2683   0.2444\n",
            "U:NOUN         3        1        1        0.75     0.75     0.75\n",
            "U:OTHER        4        2        0        0.6667   1.0      0.7143\n",
            "U:PREP         4        1        0        0.8      1.0      0.8333\n",
            "U:PRON         2        0        0        1.0      1.0      1.0\n",
            "U:VERB         4        1        2        0.8      0.6667   0.7692\n",
            "U:VERB:TENSE   2        2        4        0.5      0.3333   0.4545\n",
            "\n",
            "=========== Span-Based Correction ============\n",
            "TP\tFP\tFN\tPrec\tRec\tF0.5\n",
            "506\t202\t450\t0.7147\t0.5293\t0.6679\n",
            "==============================================\n",
            "\n"
          ]
        }
      ]
    },
    {
      "cell_type": "code",
      "source": [
        "!errant_compare -hyp /content/preds_m2.txt -ref /content/source_m2.txt -ds"
      ],
      "metadata": {
        "colab": {
          "base_uri": "https://localhost:8080/"
        },
        "outputId": "887b5bdd-d5e2-4687-fce3-0f007a702d6d",
        "id": "LONrTMHWa_FY"
      },
      "execution_count": null,
      "outputs": [
        {
          "output_type": "stream",
          "name": "stdout",
          "text": [
            "\n",
            "============ Span-Based Detection ============\n",
            "TP\tFP\tFN\tPrec\tRec\tF0.5\n",
            "519\t189\t437\t0.7331\t0.5429\t0.6851\n",
            "==============================================\n",
            "\n"
          ]
        }
      ]
    },
    {
      "cell_type": "code",
      "source": [
        "!errant_compare -hyp /content/preds_m2.txt -ref /content/source_m2.txt -ds -cat {1}"
      ],
      "metadata": {
        "outputId": "d6c8c337-72f4-40c6-c736-a80378e9720e",
        "colab": {
          "base_uri": "https://localhost:8080/"
        },
        "id": "mZKINe28a_FZ"
      },
      "execution_count": null,
      "outputs": [
        {
          "output_type": "stream",
          "name": "stdout",
          "text": [
            "\n",
            "====================== Span-Based Detection ======================\n",
            "Category       TP       FP       FN       P        R        F0.5\n",
            "M              105      29       131      0.7836   0.4449   0.6801\n",
            "R              375      121      270      0.756    0.5814   0.7132\n",
            "U              39       39       36       0.5      0.52     0.5039\n",
            "\n",
            "============ Span-Based Detection ============\n",
            "TP\tFP\tFN\tPrec\tRec\tF0.5\n",
            "519\t189\t437\t0.7331\t0.5429\t0.6851\n",
            "==============================================\n",
            "\n"
          ]
        }
      ]
    },
    {
      "cell_type": "code",
      "source": [
        "!errant_compare -hyp /content/preds_m2.txt -ref /content/source_m2.txt -ds -cat {2}"
      ],
      "metadata": {
        "outputId": "16f822ba-39a2-4baf-df76-5da1e103dd2d",
        "colab": {
          "base_uri": "https://localhost:8080/"
        },
        "id": "7m0L43uTa_Fa"
      },
      "execution_count": null,
      "outputs": [
        {
          "output_type": "stream",
          "name": "stdout",
          "text": [
            "\n",
            "====================== Span-Based Detection ======================\n",
            "Category       TP       FP       FN       P        R        F0.5\n",
            "ADJ            12       3        1        0.8      0.9231   0.8219\n",
            "ADJ:FORM       0        3        1        0.0      0.0      0.0\n",
            "ADV            8        0        0        1.0      1.0      1.0\n",
            "CONJ           2        0        0        1.0      1.0      1.0\n",
            "DET            76       57       159      0.5714   0.3234   0.4954\n",
            "MORPH          20       10       7        0.6667   0.7407   0.6803\n",
            "NOUN           61       29       30       0.6778   0.6703   0.6763\n",
            "NOUN:INFL      0        0        1        1.0      0.0      0.0\n",
            "NOUN:NUM       20       17       22       0.5405   0.4762   0.5263\n",
            "ORTH           12       5        25       0.7059   0.3243   0.5714\n",
            "OTHER          94       22       21       0.8103   0.8174   0.8117\n",
            "PART           2        1        0        0.6667   1.0      0.7143\n",
            "PREP           43       9        10       0.8269   0.8113   0.8238\n",
            "PRON           5        0        0        1.0      1.0      1.0\n",
            "PUNCT          10       0        1        1.0      0.9091   0.9804\n",
            "SPELL          65       7        130      0.9028   0.3333   0.6729\n",
            "VERB           32       6        6        0.8421   0.8421   0.8421\n",
            "VERB:FORM      4        3        5        0.5714   0.4444   0.5405\n",
            "VERB:INFL      0        0        1        1.0      0.0      0.0\n",
            "VERB:SVA       2        2        0        0.5      1.0      0.5556\n",
            "VERB:TENSE     46       13       15       0.7797   0.7541   0.7744\n",
            "WO             5        2        2        0.7143   0.7143   0.7143\n",
            "\n",
            "============ Span-Based Detection ============\n",
            "TP\tFP\tFN\tPrec\tRec\tF0.5\n",
            "519\t189\t437\t0.7331\t0.5429\t0.6851\n",
            "==============================================\n",
            "\n"
          ]
        }
      ]
    },
    {
      "cell_type": "code",
      "source": [
        "!errant_compare -hyp /content/preds_m2.txt -ref /content/source_m2.txt -ds -cat {3}"
      ],
      "metadata": {
        "outputId": "b6e11616-4962-42c2-d1f7-4070510371bb",
        "colab": {
          "base_uri": "https://localhost:8080/"
        },
        "id": "gi2wraTea_Fb"
      },
      "execution_count": null,
      "outputs": [
        {
          "metadata": {
            "tags": null
          },
          "name": "stdout",
          "output_type": "stream",
          "text": [
            "\n",
            "====================== Span-Based Detection ======================\n",
            "Category       TP       FP       FN       P        R        F0.5\n",
            "M:DET          55       19       123      0.7432   0.309    0.5802\n",
            "M:NOUN         9        3        2        0.75     0.8182   0.7627\n",
            "M:OTHER        13       2        1        0.8667   0.9286   0.8784\n",
            "M:PREP         7        3        3        0.7      0.7      0.7\n",
            "M:PUNCT        10       0        1        1.0      0.9091   0.9804\n",
            "M:VERB         9        1        0        0.9      1.0      0.9184\n",
            "M:VERB:TENSE   2        1        1        0.6667   0.6667   0.6667\n",
            "R:ADJ          11       3        1        0.7857   0.9167   0.8088\n",
            "R:ADJ:FORM     0        3        1        0.0      0.0      0.0\n",
            "R:ADV          2        0        0        1.0      1.0      1.0\n",
            "R:CONJ         1        0        0        1.0      1.0      1.0\n",
            "R:DET          10       5        6        0.6667   0.625    0.6579\n",
            "R:MORPH        20       10       7        0.6667   0.7407   0.6803\n",
            "R:NOUN         49       25       27       0.6622   0.6447   0.6586\n",
            "R:NOUN:INFL    0        0        1        1.0      0.0      0.0\n",
            "R:NOUN:NUM     20       17       22       0.5405   0.4762   0.5263\n",
            "R:ORTH         12       5        25       0.7059   0.3243   0.5714\n",
            "R:OTHER        77       18       20       0.8105   0.7938   0.8071\n",
            "R:PART         2        1        0        0.6667   1.0      0.7143\n",
            "R:PREP         32       6        7        0.8421   0.8205   0.8377\n",
            "R:PRON         3        0        0        1.0      1.0      1.0\n",
            "R:SPELL        65       7        130      0.9028   0.3333   0.6729\n",
            "R:VERB         18       4        5        0.8182   0.7826   0.8108\n",
            "R:VERB:FORM    4        3        5        0.5714   0.4444   0.5405\n",
            "R:VERB:INFL    0        0        1        1.0      0.0      0.0\n",
            "R:VERB:SVA     2        2        0        0.5      1.0      0.5556\n",
            "R:VERB:TENSE   42       10       10       0.8077   0.8077   0.8077\n",
            "R:WO           5        2        2        0.7143   0.7143   0.7143\n",
            "U:ADJ          1        0        0        1.0      1.0      1.0\n",
            "U:ADV          6        0        0        1.0      1.0      1.0\n",
            "U:CONJ         1        0        0        1.0      1.0      1.0\n",
            "U:DET          11       33       30       0.25     0.2683   0.2535\n",
            "U:NOUN         3        1        1        0.75     0.75     0.75\n",
            "U:OTHER        4        2        0        0.6667   1.0      0.7143\n",
            "U:PREP         4        0        0        1.0      1.0      1.0\n",
            "U:PRON         2        0        0        1.0      1.0      1.0\n",
            "U:VERB         5        1        1        0.8333   0.8333   0.8333\n",
            "U:VERB:TENSE   2        2        4        0.5      0.3333   0.4545\n",
            "\n",
            "============ Span-Based Detection ============\n",
            "TP\tFP\tFN\tPrec\tRec\tF0.5\n",
            "519\t189\t437\t0.7331\t0.5429\t0.6851\n",
            "==============================================\n",
            "\n"
          ]
        }
      ]
    },
    {
      "cell_type": "markdown",
      "source": [
        "## t5-lang8 + Llama"
      ],
      "metadata": {
        "id": "ZZa56yxBLmHV"
      }
    },
    {
      "cell_type": "code",
      "source": [
        "!errant_compare -hyp /content/preds_m2.txt -ref /content/source_m2.txt"
      ],
      "metadata": {
        "colab": {
          "base_uri": "https://localhost:8080/"
        },
        "id": "9vd1HTu649nL",
        "outputId": "d4626420-183f-4a62-a223-afe48fcf443f"
      },
      "execution_count": null,
      "outputs": [
        {
          "output_type": "stream",
          "name": "stdout",
          "text": [
            "\n",
            "=========== Span-Based Correction ============\n",
            "TP\tFP\tFN\tPrec\tRec\tF0.5\n",
            "355\t774\t622\t0.3144\t0.3634\t0.3231\n",
            "==============================================\n",
            "\n"
          ]
        }
      ]
    },
    {
      "cell_type": "code",
      "source": [
        "!errant_compare -hyp /content/preds_m2.txt -ref /content/source_m2.txt -cat {1}"
      ],
      "metadata": {
        "colab": {
          "base_uri": "https://localhost:8080/"
        },
        "outputId": "a607d812-0cc7-4efa-ccde-4f0321cff85e",
        "id": "CYyU_0PO51d3"
      },
      "execution_count": null,
      "outputs": [
        {
          "output_type": "stream",
          "name": "stdout",
          "text": [
            "\n",
            "===================== Span-Based Correction ======================\n",
            "Category       TP       FP       FN       P        R        F0.5\n",
            "M              66       86       178      0.4342   0.2705   0.3873\n",
            "R              260      580      398      0.3095   0.3951   0.3235\n",
            "U              29       108      46       0.2117   0.3867   0.2327\n",
            "\n",
            "=========== Span-Based Correction ============\n",
            "TP\tFP\tFN\tPrec\tRec\tF0.5\n",
            "355\t774\t622\t0.3144\t0.3634\t0.3231\n",
            "==============================================\n",
            "\n"
          ]
        }
      ]
    },
    {
      "cell_type": "code",
      "source": [
        "!errant_compare -hyp /content/preds_m2.txt -ref /content/source_m2.txt -cat {2}"
      ],
      "metadata": {
        "colab": {
          "base_uri": "https://localhost:8080/"
        },
        "outputId": "d6b2d4d9-371b-4b2a-93c3-c7aa77a4c1f5",
        "id": "4uXh5xXc51d5"
      },
      "execution_count": null,
      "outputs": [
        {
          "output_type": "stream",
          "name": "stdout",
          "text": [
            "\n",
            "===================== Span-Based Correction ======================\n",
            "Category       TP       FP       FN       P        R        F0.5\n",
            "ADJ            15       11       6        0.5769   0.7143   0.6\n",
            "ADJ:FORM       0        0        1        1.0      0.0      0.0\n",
            "ADV            4        7        3        0.3636   0.5714   0.3922\n",
            "CONJ           2        2        1        0.5      0.6667   0.5263\n",
            "CONTR          0        1        0        0.0      1.0      0.0\n",
            "DET            49       125      180      0.2816   0.214    0.2649\n",
            "MORPH          8        29       13       0.2162   0.381    0.2367\n",
            "NOUN           49       104      61       0.3203   0.4455   0.3393\n",
            "NOUN:NUM       16       22       36       0.4211   0.3077   0.3922\n",
            "ORTH           7        102      34       0.0642   0.1707   0.0734\n",
            "OTHER          72       135      58       0.3478   0.5538   0.3758\n",
            "PART           0        3        0        0.0      1.0      0.0\n",
            "PREP           24       91       28       0.2087   0.4615   0.2344\n",
            "PRON           2        6        4        0.25     0.3333   0.2632\n",
            "PUNCT          10       5        7        0.6667   0.5882   0.6494\n",
            "SPELL          43       24       146      0.6418   0.2275   0.4705\n",
            "VERB           14       23       16       0.3784   0.4667   0.3933\n",
            "VERB:FORM      3        21       9        0.125    0.25     0.1389\n",
            "VERB:INFL      1        0        4        1.0      0.2      0.5556\n",
            "VERB:SVA       1        31       0        0.0312   1.0      0.0388\n",
            "VERB:TENSE     31       28       13       0.5254   0.7045   0.5536\n",
            "WO             4        4        2        0.5      0.6667   0.5263\n",
            "\n",
            "=========== Span-Based Correction ============\n",
            "TP\tFP\tFN\tPrec\tRec\tF0.5\n",
            "355\t774\t622\t0.3144\t0.3634\t0.3231\n",
            "==============================================\n",
            "\n"
          ]
        }
      ]
    },
    {
      "cell_type": "code",
      "source": [
        "!errant_compare -hyp /content/preds_m2.txt -ref /content/source_m2.txt -cat {3}"
      ],
      "metadata": {
        "colab": {
          "base_uri": "https://localhost:8080/"
        },
        "outputId": "be6a7743-824f-4042-d0c8-cc1eff9587e6",
        "id": "ggi89mA751d6"
      },
      "execution_count": null,
      "outputs": [
        {
          "output_type": "stream",
          "name": "stdout",
          "text": [
            "\n",
            "===================== Span-Based Correction ======================\n",
            "Category       TP       FP       FN       P        R        F0.5\n",
            "M:ADJ          0        1        0        0.0      1.0      0.0\n",
            "M:ADV          1        0        0        1.0      1.0      1.0\n",
            "M:DET          28       39       143      0.4179   0.1637   0.3189\n",
            "M:NOUN         9        4        5        0.6923   0.6429   0.6818\n",
            "M:OTHER        13       8        7        0.619    0.65     0.625\n",
            "M:PREP         4        22       6        0.1538   0.4      0.1754\n",
            "M:PRON         0        2        1        0.0      0.0      0.0\n",
            "M:PUNCT        10       4        5        0.7143   0.6667   0.7042\n",
            "M:VERB         0        3        9        0.0      0.0      0.0\n",
            "M:VERB:TENSE   1        3        2        0.25     0.3333   0.2632\n",
            "R:ADJ          15       9        6        0.625    0.7143   0.641\n",
            "R:ADJ:FORM     0        0        1        1.0      0.0      0.0\n",
            "R:ADV          1        6        2        0.1429   0.3333   0.1613\n",
            "R:CONTR        0        1        0        0.0      1.0      0.0\n",
            "R:DET          12       18       7        0.4      0.6316   0.4317\n",
            "R:MORPH        8        29       13       0.2162   0.381    0.2367\n",
            "R:NOUN         36       96       53       0.2727   0.4045   0.2917\n",
            "R:NOUN:NUM     16       22       36       0.4211   0.3077   0.3922\n",
            "R:ORTH         7        102      34       0.0642   0.1707   0.0734\n",
            "R:OTHER        52       121      48       0.3006   0.52     0.3283\n",
            "R:PART         0        2        0        0.0      1.0      0.0\n",
            "R:PREP         17       59       17       0.2237   0.5      0.2515\n",
            "R:PRON         2        3        2        0.4      0.5      0.4167\n",
            "R:PUNCT        0        1        1        0.0      0.0      0.0\n",
            "R:SPELL        43       24       146      0.6418   0.2275   0.4705\n",
            "R:VERB         13       12       7        0.52     0.65     0.5417\n",
            "R:VERB:FORM    3        20       8        0.1304   0.2727   0.1456\n",
            "R:VERB:INFL    1        0        4        1.0      0.2      0.5556\n",
            "R:VERB:SVA     1        31       0        0.0312   1.0      0.0388\n",
            "R:VERB:TENSE   29       20       11       0.5918   0.725    0.6144\n",
            "R:WO           4        4        2        0.5      0.6667   0.5263\n",
            "U:ADJ          0        1        0        0.0      1.0      0.0\n",
            "U:ADV          2        1        1        0.6667   0.6667   0.6667\n",
            "U:CONJ         2        2        1        0.5      0.6667   0.5263\n",
            "U:DET          9        68       30       0.1169   0.2308   0.1297\n",
            "U:NOUN         4        4        3        0.5      0.5714   0.5128\n",
            "U:OTHER        7        6        3        0.5385   0.7      0.5645\n",
            "U:PART         0        1        0        0.0      1.0      0.0\n",
            "U:PREP         3        10       5        0.2308   0.375    0.25\n",
            "U:PRON         0        1        1        0.0      0.0      0.0\n",
            "U:PUNCT        0        0        1        1.0      0.0      0.0\n",
            "U:VERB         1        8        0        0.1111   1.0      0.1351\n",
            "U:VERB:FORM    0        1        1        0.0      0.0      0.0\n",
            "U:VERB:TENSE   1        5        0        0.1667   1.0      0.2\n",
            "\n",
            "=========== Span-Based Correction ============\n",
            "TP\tFP\tFN\tPrec\tRec\tF0.5\n",
            "355\t774\t622\t0.3144\t0.3634\t0.3231\n",
            "==============================================\n",
            "\n"
          ]
        }
      ]
    },
    {
      "cell_type": "code",
      "source": [
        "!errant_compare -hyp /content/preds_m2.txt -ref /content/source_m2.txt -ds"
      ],
      "metadata": {
        "colab": {
          "base_uri": "https://localhost:8080/"
        },
        "outputId": "75bcf4ad-1c1e-4b05-a230-b4579a6e2a2d",
        "id": "1YuBHOscXWyI"
      },
      "execution_count": null,
      "outputs": [
        {
          "output_type": "stream",
          "name": "stdout",
          "text": [
            "\n",
            "============ Span-Based Detection ============\n",
            "TP\tFP\tFN\tPrec\tRec\tF0.5\n",
            "396\t733\t581\t0.3508\t0.4053\t0.3605\n",
            "==============================================\n",
            "\n"
          ]
        }
      ]
    },
    {
      "cell_type": "code",
      "source": [
        "!errant_compare -hyp /content/preds_m2.txt -ref /content/source_m2.txt -ds -cat {1}"
      ],
      "metadata": {
        "outputId": "8f243843-5e09-4927-9999-88f19a79d7a3",
        "colab": {
          "base_uri": "https://localhost:8080/"
        },
        "id": "9_xUBSM251d7"
      },
      "execution_count": null,
      "outputs": [
        {
          "output_type": "stream",
          "name": "stdout",
          "text": [
            "\n",
            "====================== Span-Based Detection ======================\n",
            "Category       TP       FP       FN       P        R        F0.5\n",
            "M              70       83       174      0.4575   0.2869   0.4089\n",
            "R              294      550      364      0.3483   0.4468   0.3644\n",
            "U              32       100      43       0.2424   0.4267   0.2653\n",
            "\n",
            "============ Span-Based Detection ============\n",
            "TP\tFP\tFN\tPrec\tRec\tF0.5\n",
            "396\t733\t581\t0.3508\t0.4053\t0.3605\n",
            "==============================================\n",
            "\n"
          ]
        }
      ]
    },
    {
      "cell_type": "code",
      "source": [
        "!errant_compare -hyp /content/preds_m2.txt -ref /content/source_m2.txt -ds -cat {2}"
      ],
      "metadata": {
        "outputId": "2fd95da4-bcaa-451b-e2fd-714ebfd4fed3",
        "colab": {
          "base_uri": "https://localhost:8080/"
        },
        "id": "24rMPNqe51d7"
      },
      "execution_count": null,
      "outputs": [
        {
          "output_type": "stream",
          "name": "stdout",
          "text": [
            "\n",
            "====================== Span-Based Detection ======================\n",
            "Category       TP       FP       FN       P        R        F0.5\n",
            "ADJ            15       11       6        0.5769   0.7143   0.6\n",
            "ADJ:FORM       0        0        1        1.0      0.0      0.0\n",
            "ADV            4        6        3        0.4      0.5714   0.4255\n",
            "CONJ           2        2        1        0.5      0.6667   0.5263\n",
            "CONTR          0        1        0        0.0      1.0      0.0\n",
            "DET            53       113      176      0.3193   0.2314   0.2968\n",
            "MORPH          10       28       11       0.2632   0.4762   0.289\n",
            "NOUN           55       98       55       0.3595   0.5      0.3809\n",
            "NOUN:NUM       18       21       34       0.4615   0.3462   0.4327\n",
            "ORTH           11       99       30       0.1      0.2683   0.1143\n",
            "OTHER          82       123      48       0.4      0.6308   0.4316\n",
            "PART           0        3        0        0.0      1.0      0.0\n",
            "PREP           27       87       25       0.2368   0.5192   0.2657\n",
            "PRON           2        6        4        0.25     0.3333   0.2632\n",
            "PUNCT          10       5        7        0.6667   0.5882   0.6494\n",
            "SPELL          51       24       138      0.68     0.2698   0.5215\n",
            "VERB           15       23       15       0.3947   0.5      0.4121\n",
            "VERB:FORM      3        21       9        0.125    0.25     0.1389\n",
            "VERB:INFL      1        0        4        1.0      0.2      0.5556\n",
            "VERB:SVA       1        30       0        0.0323   1.0      0.04\n",
            "VERB:TENSE     32       28       12       0.5333   0.7273   0.5634\n",
            "WO             4        4        2        0.5      0.6667   0.5263\n",
            "\n",
            "============ Span-Based Detection ============\n",
            "TP\tFP\tFN\tPrec\tRec\tF0.5\n",
            "396\t733\t581\t0.3508\t0.4053\t0.3605\n",
            "==============================================\n",
            "\n"
          ]
        }
      ]
    },
    {
      "cell_type": "code",
      "source": [
        "!errant_compare -hyp /content/preds_m2.txt -ref /content/source_m2.txt -ds -cat {3}"
      ],
      "metadata": {
        "outputId": "126c041e-1092-4da1-adc5-2b18a986798c",
        "colab": {
          "base_uri": "https://localhost:8080/"
        },
        "id": "fA3mQybp51d8"
      },
      "execution_count": null,
      "outputs": [
        {
          "output_type": "stream",
          "name": "stdout",
          "text": [
            "\n",
            "====================== Span-Based Detection ======================\n",
            "Category       TP       FP       FN       P        R        F0.5\n",
            "M:ADJ          0        1        0        0.0      1.0      0.0\n",
            "M:ADV          1        0        0        1.0      1.0      1.0\n",
            "M:DET          29       38       142      0.4328   0.1696   0.3303\n",
            "M:NOUN         9        4        5        0.6923   0.6429   0.6818\n",
            "M:OTHER        15       6        5        0.7143   0.75     0.7212\n",
            "M:PREP         4        22       6        0.1538   0.4      0.1754\n",
            "M:PRON         0        2        1        0.0      0.0      0.0\n",
            "M:PUNCT        10       4        5        0.7143   0.6667   0.7042\n",
            "M:VERB         1        3        8        0.25     0.1111   0.2\n",
            "M:VERB:TENSE   1        3        2        0.25     0.3333   0.2632\n",
            "R:ADJ          15       9        6        0.625    0.7143   0.641\n",
            "R:ADJ:FORM     0        0        1        1.0      0.0      0.0\n",
            "R:ADV          1        5        2        0.1667   0.3333   0.1852\n",
            "R:CONTR        0        1        0        0.0      1.0      0.0\n",
            "R:DET          13       15       6        0.4643   0.6842   0.4962\n",
            "R:MORPH        10       28       11       0.2632   0.4762   0.289\n",
            "R:NOUN         41       90       48       0.313    0.4607   0.3344\n",
            "R:NOUN:NUM     18       21       34       0.4615   0.3462   0.4327\n",
            "R:ORTH         11       99       30       0.1      0.2683   0.1143\n",
            "R:OTHER        60       111      40       0.3509   0.6      0.3827\n",
            "R:PART         0        2        0        0.0      1.0      0.0\n",
            "R:PREP         20       55       14       0.2667   0.5882   0.2994\n",
            "R:PRON         2        3        2        0.4      0.5      0.4167\n",
            "R:PUNCT        0        1        1        0.0      0.0      0.0\n",
            "R:SPELL        51       24       138      0.68     0.2698   0.5215\n",
            "R:VERB         13       12       7        0.52     0.65     0.5417\n",
            "R:VERB:FORM    3        20       8        0.1304   0.2727   0.1456\n",
            "R:VERB:INFL    1        0        4        1.0      0.2      0.5556\n",
            "R:VERB:SVA     1        30       0        0.0323   1.0      0.04\n",
            "R:VERB:TENSE   30       20       10       0.6      0.75     0.625\n",
            "R:WO           4        4        2        0.5      0.6667   0.5263\n",
            "U:ADJ          0        1        0        0.0      1.0      0.0\n",
            "U:ADV          2        1        1        0.6667   0.6667   0.6667\n",
            "U:CONJ         2        2        1        0.5      0.6667   0.5263\n",
            "U:DET          11       60       28       0.1549   0.2821   0.1703\n",
            "U:NOUN         5        4        2        0.5556   0.7143   0.5814\n",
            "U:OTHER        7        6        3        0.5385   0.7      0.5645\n",
            "U:PART         0        1        0        0.0      1.0      0.0\n",
            "U:PREP         3        10       5        0.2308   0.375    0.25\n",
            "U:PRON         0        1        1        0.0      0.0      0.0\n",
            "U:PUNCT        0        0        1        1.0      0.0      0.0\n",
            "U:VERB         1        8        0        0.1111   1.0      0.1351\n",
            "U:VERB:FORM    0        1        1        0.0      0.0      0.0\n",
            "U:VERB:TENSE   1        5        0        0.1667   1.0      0.2\n",
            "\n",
            "============ Span-Based Detection ============\n",
            "TP\tFP\tFN\tPrec\tRec\tF0.5\n",
            "396\t733\t581\t0.3508\t0.4053\t0.3605\n",
            "==============================================\n",
            "\n"
          ]
        }
      ]
    },
    {
      "cell_type": "markdown",
      "source": [
        "## t5-lang8 + REALEC"
      ],
      "metadata": {
        "id": "qn2BATHQMJHg"
      }
    },
    {
      "cell_type": "code",
      "source": [
        "!errant_compare -hyp /content/preds_m2.txt -ref /content/source_m2.txt"
      ],
      "metadata": {
        "colab": {
          "base_uri": "https://localhost:8080/"
        },
        "id": "uGethUR453UH",
        "outputId": "c0507562-6d74-4a9a-b334-59bb157a24f1"
      },
      "execution_count": null,
      "outputs": [
        {
          "output_type": "stream",
          "name": "stdout",
          "text": [
            "\n",
            "=========== Span-Based Correction ============\n",
            "TP\tFP\tFN\tPrec\tRec\tF0.5\n",
            "12177\t11789\t13362\t0.5081\t0.4768\t0.5015\n",
            "==============================================\n",
            "\n"
          ]
        }
      ]
    },
    {
      "cell_type": "code",
      "source": [
        "!errant_compare -hyp /content/preds_m2.txt -ref /content/source_m2.txt -ds"
      ],
      "metadata": {
        "colab": {
          "base_uri": "https://localhost:8080/"
        },
        "outputId": "ebc51fdc-4454-4b63-e76c-3e1e9230e256",
        "id": "rE3zMgov51d7"
      },
      "execution_count": null,
      "outputs": [
        {
          "output_type": "stream",
          "name": "stdout",
          "text": [
            "\n",
            "============ Span-Based Detection ============\n",
            "TP\tFP\tFN\tPrec\tRec\tF0.5\n",
            "14295\t9674\t11244\t0.5964\t0.5597\t0.5887\n",
            "==============================================\n",
            "\n"
          ]
        }
      ]
    },
    {
      "cell_type": "markdown",
      "source": [
        "## t5-lang8 + GED + GEC + REALEC"
      ],
      "metadata": {
        "id": "EcGxKXa_MMM_"
      }
    },
    {
      "cell_type": "code",
      "source": [
        "!errant_compare -hyp /content/preds_m2.txt -ref /content/source_m2.txt"
      ],
      "metadata": {
        "colab": {
          "base_uri": "https://localhost:8080/"
        },
        "outputId": "fabda5d2-7c17-4888-e579-2e35248fbc50",
        "id": "mVyKxYPPEwG9"
      },
      "execution_count": null,
      "outputs": [
        {
          "output_type": "stream",
          "name": "stdout",
          "text": [
            "\n",
            "=========== Span-Based Correction ============\n",
            "TP\tFP\tFN\tPrec\tRec\tF0.5\n",
            "613\t185\t343\t0.7682\t0.6412\t0.7389\n",
            "==============================================\n",
            "\n"
          ]
        }
      ]
    },
    {
      "cell_type": "code",
      "source": [
        "!errant_compare -hyp /content/preds_m2.txt -ref /content/source_m2.txt -cat {1}"
      ],
      "metadata": {
        "colab": {
          "base_uri": "https://localhost:8080/"
        },
        "outputId": "dfe87eff-2c32-48fc-c65b-0d34ee7755fa",
        "id": "kyl10wEmT7Xb"
      },
      "execution_count": null,
      "outputs": [
        {
          "output_type": "stream",
          "name": "stdout",
          "text": [
            "\n",
            "===================== Span-Based Correction ======================\n",
            "Category       TP       FP       FN       P        R        F0.5\n",
            "M              172      52       64       0.7679   0.7288   0.7597\n",
            "R              400      116      245      0.7752   0.6202   0.7383\n",
            "U              41       17       34       0.7069   0.5467   0.6678\n",
            "\n",
            "=========== Span-Based Correction ============\n",
            "TP\tFP\tFN\tPrec\tRec\tF0.5\n",
            "613\t185\t343\t0.7682\t0.6412\t0.7389\n",
            "==============================================\n",
            "\n"
          ]
        }
      ]
    },
    {
      "cell_type": "code",
      "source": [
        "!errant_compare -hyp /content/preds_m2.txt -ref /content/source_m2.txt -cat {2}"
      ],
      "metadata": {
        "colab": {
          "base_uri": "https://localhost:8080/"
        },
        "outputId": "9a042d5a-b31a-4192-97af-12f311cfbf17",
        "id": "McPyNqQTT7Xh"
      },
      "execution_count": null,
      "outputs": [
        {
          "output_type": "stream",
          "name": "stdout",
          "text": [
            "\n",
            "===================== Span-Based Correction ======================\n",
            "Category       TP       FP       FN       P        R        F0.5\n",
            "ADJ            12       3        1        0.8      0.9231   0.8219\n",
            "ADJ:FORM       0        2        1        0.0      0.0      0.0\n",
            "ADV            7        1        1        0.875    0.875    0.875\n",
            "CONJ           2        0        0        1.0      1.0      1.0\n",
            "DET            144      48       91       0.75     0.6128   0.7178\n",
            "MORPH          24       5        3        0.8276   0.8889   0.8392\n",
            "NOUN           66       29       25       0.6947   0.7253   0.7006\n",
            "NOUN:INFL      1        0        0        1.0      1.0      1.0\n",
            "NOUN:NUM       19       13       23       0.5938   0.4524   0.5588\n",
            "ORTH           14       7        23       0.6667   0.3784   0.5785\n",
            "OTHER          101      19       14       0.8417   0.8783   0.8487\n",
            "PART           1        1        1        0.5      0.5      0.5\n",
            "PREP           43       14       10       0.7544   0.8113   0.7651\n",
            "PRON           5        1        0        0.8333   1.0      0.8621\n",
            "PUNCT          11       1        0        0.9167   1.0      0.9322\n",
            "SPELL          69       9        126      0.8846   0.3538   0.6805\n",
            "VERB           33       10       5        0.7674   0.8684   0.7857\n",
            "VERB:FORM      5        5        4        0.5      0.5556   0.5102\n",
            "VERB:INFL      0        0        1        1.0      0.0      0.0\n",
            "VERB:SVA       1        0        1        1.0      0.5      0.8333\n",
            "VERB:TENSE     50       14       11       0.7812   0.8197   0.7886\n",
            "WO             5        3        2        0.625    0.7143   0.641\n",
            "\n",
            "=========== Span-Based Correction ============\n",
            "TP\tFP\tFN\tPrec\tRec\tF0.5\n",
            "613\t185\t343\t0.7682\t0.6412\t0.7389\n",
            "==============================================\n",
            "\n"
          ]
        }
      ]
    },
    {
      "cell_type": "code",
      "source": [
        "!errant_compare -hyp /content/preds_m2.txt -ref /content/source_m2.txt -cat {3}"
      ],
      "metadata": {
        "colab": {
          "base_uri": "https://localhost:8080/"
        },
        "outputId": "09550371-3abf-4b5a-e050-4fba363e9ab5",
        "id": "4t8b53-3T7Xi"
      },
      "execution_count": null,
      "outputs": [
        {
          "output_type": "stream",
          "name": "stdout",
          "text": [
            "\n",
            "===================== Span-Based Correction ======================\n",
            "Category       TP       FP       FN       P        R        F0.5\n",
            "M:DET          124      35       54       0.7799   0.6966   0.7617\n",
            "M:NOUN         8        4        3        0.6667   0.7273   0.678\n",
            "M:OTHER        13       2        1        0.8667   0.9286   0.8784\n",
            "M:PREP         6        6        4        0.5      0.6      0.5172\n",
            "M:PUNCT        11       0        0        1.0      1.0      1.0\n",
            "M:VERB         8        1        1        0.8889   0.8889   0.8889\n",
            "M:VERB:TENSE   2        4        1        0.3333   0.6667   0.3704\n",
            "R:ADJ          11       2        1        0.8462   0.9167   0.8594\n",
            "R:ADJ:FORM     0        2        1        0.0      0.0      0.0\n",
            "R:ADV          2        0        0        1.0      1.0      1.0\n",
            "R:CONJ         1        0        0        1.0      1.0      1.0\n",
            "R:DET          8        4        8        0.6667   0.5      0.625\n",
            "R:MORPH        24       5        3        0.8276   0.8889   0.8392\n",
            "R:NOUN         54       22       22       0.7105   0.7105   0.7105\n",
            "R:NOUN:INFL    1        0        0        1.0      1.0      1.0\n",
            "R:NOUN:NUM     19       13       23       0.5938   0.4524   0.5588\n",
            "R:ORTH         14       7        23       0.6667   0.3784   0.5785\n",
            "R:OTHER        84       16       13       0.84     0.866    0.8451\n",
            "R:PART         1        1        1        0.5      0.5      0.5\n",
            "R:PREP         34       8        5        0.8095   0.8718   0.8213\n",
            "R:PRON         3        1        0        0.75     1.0      0.7895\n",
            "R:PUNCT        0        1        0        0.0      1.0      0.0\n",
            "R:SPELL        69       9        126      0.8846   0.3538   0.6805\n",
            "R:VERB         20       7        3        0.7407   0.8696   0.7634\n",
            "R:VERB:FORM    5        5        4        0.5      0.5556   0.5102\n",
            "R:VERB:INFL    0        0        1        1.0      0.0      0.0\n",
            "R:VERB:SVA     1        0        1        1.0      0.5      0.8333\n",
            "R:VERB:TENSE   44       10       8        0.8148   0.8462   0.8209\n",
            "R:WO           5        3        2        0.625    0.7143   0.641\n",
            "U:ADJ          1        1        0        0.5      1.0      0.5556\n",
            "U:ADV          5        1        1        0.8333   0.8333   0.8333\n",
            "U:CONJ         1        0        0        1.0      1.0      1.0\n",
            "U:DET          12       9        29       0.5714   0.2927   0.48\n",
            "U:NOUN         4        3        0        0.5714   1.0      0.625\n",
            "U:OTHER        4        1        0        0.8      1.0      0.8333\n",
            "U:PREP         3        0        1        1.0      0.75     0.9375\n",
            "U:PRON         2        0        0        1.0      1.0      1.0\n",
            "U:VERB         5        2        1        0.7143   0.8333   0.7353\n",
            "U:VERB:TENSE   4        0        2        1.0      0.6667   0.9091\n",
            "\n",
            "=========== Span-Based Correction ============\n",
            "TP\tFP\tFN\tPrec\tRec\tF0.5\n",
            "613\t185\t343\t0.7682\t0.6412\t0.7389\n",
            "==============================================\n",
            "\n"
          ]
        }
      ]
    },
    {
      "cell_type": "code",
      "source": [
        "!errant_compare -hyp /content/preds_m2.txt -ref /content/source_m2.txt -ds"
      ],
      "metadata": {
        "colab": {
          "base_uri": "https://localhost:8080/"
        },
        "outputId": "9a623fe1-d58a-4bdd-a6a0-a2d911bea021",
        "id": "zPcPfyDyEwG_"
      },
      "execution_count": null,
      "outputs": [
        {
          "output_type": "stream",
          "name": "stdout",
          "text": [
            "\n",
            "============ Span-Based Detection ============\n",
            "TP\tFP\tFN\tPrec\tRec\tF0.5\n",
            "621\t177\t335\t0.7782\t0.6496\t0.7486\n",
            "==============================================\n",
            "\n"
          ]
        }
      ]
    },
    {
      "cell_type": "code",
      "source": [
        "!errant_compare -hyp /content/preds_m2.txt -ref /content/source_m2.txt -ds -cat {1}"
      ],
      "metadata": {
        "outputId": "3f238ada-eab4-4e62-c626-028c532642d1",
        "colab": {
          "base_uri": "https://localhost:8080/"
        },
        "id": "jg5_vk2jT-0M"
      },
      "execution_count": null,
      "outputs": [
        {
          "output_type": "stream",
          "name": "stdout",
          "text": [
            "\n",
            "====================== Span-Based Detection ======================\n",
            "Category       TP       FP       FN       P        R        F0.5\n",
            "M              173      51       63       0.7723   0.7331   0.7641\n",
            "R              406      111      239      0.7853   0.6295   0.7482\n",
            "U              42       15       33       0.7368   0.56     0.6931\n",
            "\n",
            "============ Span-Based Detection ============\n",
            "TP\tFP\tFN\tPrec\tRec\tF0.5\n",
            "621\t177\t335\t0.7782\t0.6496\t0.7486\n",
            "==============================================\n",
            "\n"
          ]
        }
      ]
    },
    {
      "cell_type": "code",
      "source": [
        "!errant_compare -hyp /content/preds_m2.txt -ref /content/source_m2.txt -ds -cat {2}"
      ],
      "metadata": {
        "outputId": "33b3ba65-9396-4c0f-8363-cfc24173a9db",
        "colab": {
          "base_uri": "https://localhost:8080/"
        },
        "id": "iQmcjS9lT-0R"
      },
      "execution_count": null,
      "outputs": [
        {
          "output_type": "stream",
          "name": "stdout",
          "text": [
            "\n",
            "====================== Span-Based Detection ======================\n",
            "Category       TP       FP       FN       P        R        F0.5\n",
            "ADJ            12       3        1        0.8      0.9231   0.8219\n",
            "ADJ:FORM       0        2        1        0.0      0.0      0.0\n",
            "ADV            7        1        1        0.875    0.875    0.875\n",
            "CONJ           2        0        0        1.0      1.0      1.0\n",
            "DET            145      46       90       0.7592   0.617    0.7257\n",
            "MORPH          24       5        3        0.8276   0.8889   0.8392\n",
            "NOUN           66       29       25       0.6947   0.7253   0.7006\n",
            "NOUN:INFL      1        0        0        1.0      1.0      1.0\n",
            "NOUN:NUM       19       13       23       0.5938   0.4524   0.5588\n",
            "ORTH           14       6        23       0.7      0.3784   0.5983\n",
            "OTHER          102      17       13       0.8571   0.887    0.8629\n",
            "PART           2        1        0        0.6667   1.0      0.7143\n",
            "PREP           43       14       10       0.7544   0.8113   0.7651\n",
            "PRON           5        1        0        0.8333   1.0      0.8621\n",
            "PUNCT          11       1        0        0.9167   1.0      0.9322\n",
            "SPELL          71       9        124      0.8875   0.3641   0.6893\n",
            "VERB           35       9        3        0.7955   0.9211   0.8178\n",
            "VERB:FORM      5        4        4        0.5556   0.5556   0.5556\n",
            "VERB:INFL      0        0        1        1.0      0.0      0.0\n",
            "VERB:SVA       2        0        0        1.0      1.0      1.0\n",
            "VERB:TENSE     50       13       11       0.7937   0.8197   0.7987\n",
            "WO             5        3        2        0.625    0.7143   0.641\n",
            "\n",
            "============ Span-Based Detection ============\n",
            "TP\tFP\tFN\tPrec\tRec\tF0.5\n",
            "621\t177\t335\t0.7782\t0.6496\t0.7486\n",
            "==============================================\n",
            "\n"
          ]
        }
      ]
    },
    {
      "cell_type": "code",
      "source": [
        "!errant_compare -hyp /content/preds_m2.txt -ref /content/source_m2.txt -ds -cat {3}"
      ],
      "metadata": {
        "outputId": "4dee5987-3627-46d5-c775-ce8c745357ef",
        "colab": {
          "base_uri": "https://localhost:8080/"
        },
        "id": "oBHip4DkT-0S"
      },
      "execution_count": null,
      "outputs": [
        {
          "output_type": "stream",
          "name": "stdout",
          "text": [
            "\n",
            "====================== Span-Based Detection ======================\n",
            "Category       TP       FP       FN       P        R        F0.5\n",
            "M:DET          124      35       54       0.7799   0.6966   0.7617\n",
            "M:NOUN         8        4        3        0.6667   0.7273   0.678\n",
            "M:OTHER        14       1        0        0.9333   1.0      0.9459\n",
            "M:PREP         6        6        4        0.5      0.6      0.5172\n",
            "M:PUNCT        11       0        0        1.0      1.0      1.0\n",
            "M:VERB         8        1        1        0.8889   0.8889   0.8889\n",
            "M:VERB:TENSE   2        4        1        0.3333   0.6667   0.3704\n",
            "R:ADJ          11       2        1        0.8462   0.9167   0.8594\n",
            "R:ADJ:FORM     0        2        1        0.0      0.0      0.0\n",
            "R:ADV          2        0        0        1.0      1.0      1.0\n",
            "R:CONJ         1        0        0        1.0      1.0      1.0\n",
            "R:DET          9        4        7        0.6923   0.5625   0.6618\n",
            "R:MORPH        24       5        3        0.8276   0.8889   0.8392\n",
            "R:NOUN         54       22       22       0.7105   0.7105   0.7105\n",
            "R:NOUN:INFL    1        0        0        1.0      1.0      1.0\n",
            "R:NOUN:NUM     19       13       23       0.5938   0.4524   0.5588\n",
            "R:ORTH         14       6        23       0.7      0.3784   0.5983\n",
            "R:OTHER        84       15       13       0.8485   0.866    0.8519\n",
            "R:PART         2        1        0        0.6667   1.0      0.7143\n",
            "R:PREP         34       8        5        0.8095   0.8718   0.8213\n",
            "R:PRON         3        1        0        0.75     1.0      0.7895\n",
            "R:PUNCT        0        1        0        0.0      1.0      0.0\n",
            "R:SPELL        71       9        124      0.8875   0.3641   0.6893\n",
            "R:VERB         21       6        2        0.7778   0.913    0.8015\n",
            "R:VERB:FORM    5        4        4        0.5556   0.5556   0.5556\n",
            "R:VERB:INFL    0        0        1        1.0      0.0      0.0\n",
            "R:VERB:SVA     2        0        0        1.0      1.0      1.0\n",
            "R:VERB:TENSE   44       9        8        0.8302   0.8462   0.8333\n",
            "R:WO           5        3        2        0.625    0.7143   0.641\n",
            "U:ADJ          1        1        0        0.5      1.0      0.5556\n",
            "U:ADV          5        1        1        0.8333   0.8333   0.8333\n",
            "U:CONJ         1        0        0        1.0      1.0      1.0\n",
            "U:DET          12       7        29       0.6316   0.2927   0.5128\n",
            "U:NOUN         4        3        0        0.5714   1.0      0.625\n",
            "U:OTHER        4        1        0        0.8      1.0      0.8333\n",
            "U:PREP         3        0        1        1.0      0.75     0.9375\n",
            "U:PRON         2        0        0        1.0      1.0      1.0\n",
            "U:VERB         6        2        0        0.75     1.0      0.7895\n",
            "U:VERB:TENSE   4        0        2        1.0      0.6667   0.9091\n",
            "\n",
            "============ Span-Based Detection ============\n",
            "TP\tFP\tFN\tPrec\tRec\tF0.5\n",
            "621\t177\t335\t0.7782\t0.6496\t0.7486\n",
            "==============================================\n",
            "\n"
          ]
        }
      ]
    },
    {
      "cell_type": "markdown",
      "source": [
        "## t5-lang8 + GED + GEC + Llama"
      ],
      "metadata": {
        "id": "ZMQpnjLgMPs1"
      }
    },
    {
      "cell_type": "markdown",
      "source": [
        "=========== Span-Based Correction ============\n",
        "\n",
        "TP\tFP\tFN\tPrec\tRec\tF0.5\n",
        "\n",
        "13892\t9715\t11627\t0.5885\t0.5444\t0.5791\n",
        "\n",
        "=============================================="
      ],
      "metadata": {
        "id": "6WfiQNL1uAQt"
      }
    },
    {
      "cell_type": "markdown",
      "source": [
        "===================== Span-Based Correction ======================\n",
        "\n",
        "\n",
        "Category       TP       FP       FN       P        R        F0.5\n",
        "\n",
        "M              1215     664      969      0.6466   0.5563   0.6263\n",
        "\n",
        "R              11522    8492     9892     0.5757   0.5381   0.5678\n",
        "\n",
        "U              1155     559      766      0.6739   0.6012   0.658\n",
        "\n",
        "\n",
        "=========== Span-Based Correction ============\n",
        "\n",
        "TP\tFP\tFN\tPrec\tRec\tF0.5\n",
        "\n",
        "13892\t9715\t11627\t0.5885\t0.5444\t0.5791\n",
        "\n",
        "=============================================="
      ],
      "metadata": {
        "id": "UeCvMpsFUPuD"
      }
    },
    {
      "cell_type": "markdown",
      "source": [
        "===================== Span-Based Correction ======================\n",
        "\n",
        "Category       TP       FP       FN       P        R        F0.5\n",
        "\n",
        "ADJ            381      208      301      0.6469   0.5587   0.6271\n",
        "\n",
        "ADJ:FORM       5        3        6        0.625    0.4545   0.5814\n",
        "\n",
        "ADV            96       86       149      0.5275   0.3918   0.4933\n",
        "\n",
        "CONJ           59       36       66       0.6211   0.472    0.5842\n",
        "\n",
        "DET            1325     461      520      0.7419   0.7182   0.737\n",
        "\n",
        "MORPH          129      44       71       0.7457   0.645    0.7231\n",
        "\n",
        "NOUN           2088     1195     1495     0.636    0.5828   0.6246\n",
        "\n",
        "NOUN:INFL      4        0        0        1.0      1.0      1.0\n",
        "\n",
        "NOUN:NUM       230      82       78       0.7372   0.7468   0.7391\n",
        "\n",
        "NOUN:POSS      0        0        1        1.0      0.0      0.0\n",
        "\n",
        "ORTH           120      33       37       0.7843   0.7643   0.7802\n",
        "\n",
        "OTHER          6596     5982     6881     0.5244   0.4894   0.517\n",
        "\n",
        "PART           40       29       36       0.5797   0.5263   0.5682\n",
        "\n",
        "PREP           1028     600      772      0.6314   0.5711   0.6184\n",
        "\n",
        "PRON           110      82       80       0.5729   0.5789   0.5741\n",
        "\n",
        "PUNCT          22       16       32       0.5789   0.4074   0.534\n",
        "\n",
        "SPELL          676      158      216      0.8106   0.7578   0.7994\n",
        "\n",
        "VERB           566      470      619      0.5463   0.4776   0.5311\n",
        "\n",
        "VERB:FORM      89       48       56       0.6496   0.6138   0.6421\n",
        "\n",
        "VERB:INFL      13       3        3        0.8125   0.8125   0.8125\n",
        "\n",
        "VERB:SVA       100      47       37       0.6803   0.7299   0.6897\n",
        "\n",
        "VERB:TENSE     179      115      133      0.6088   0.5737   0.6015\n",
        "\n",
        "WO             36       17       38       0.6792   0.4865   0.6294\n",
        "\n",
        "=========== Span-Based Correction ============\n",
        "\n",
        "TP\tFP\tFN\tPrec\tRec\tF0.5\n",
        "\n",
        "13892\t9715\t11627\t0.5885\t0.5444\t0.5791\n",
        "\n",
        "==============================================\n"
      ],
      "metadata": {
        "id": "dZh-jTEqUQGR"
      }
    },
    {
      "cell_type": "markdown",
      "source": [
        "===================== Span-Based Correction ======================\n",
        "\n",
        "\n",
        "Category       TP       FP       FN       P        R        F0.5\n",
        "\n",
        "M:ADJ          22       16       38       0.5789   0.3667   0.5189\n",
        "\n",
        "M:ADV          12       10       29       0.5455   0.2927   0.4651\n",
        "\n",
        "M:CONJ         26       18       29       0.5909   0.4727   0.5628\n",
        "\n",
        "M:DET          646      166      169      0.7956   0.7926   0.795\n",
        "\n",
        "M:NOUN         77       78       116      0.4968   0.399    0.4736\n",
        "\n",
        "M:OTHER        227      223      353      0.5044   0.3914   0.4769\n",
        "\n",
        "M:PART         1        1        0        0.5      1.0      0.5556\n",
        "\n",
        "M:PREP         134      68       107      0.6634   0.556    0.6387\n",
        "\n",
        "M:PRON         9        16       10       0.36     0.4737   0.3782\n",
        "\n",
        "M:PUNCT        6        7        11       0.4615   0.3529   0.4348\n",
        "\n",
        "M:VERB         41       40       77       0.5062   0.3475   0.4638\n",
        "\n",
        "M:VERB:FORM    1        2        0        0.3333   1.0      0.3846\n",
        "\n",
        "M:VERB:TENSE   13       19       30       0.4062   0.3023   0.3801\n",
        "\n",
        "R:ADJ          330      182      247      0.6445   0.5719   0.6286\n",
        "\n",
        "R:ADJ:FORM     5        3        6        0.625    0.4545   0.5814\n",
        "\n",
        "R:ADV          57       53       86       0.5182   0.3986   0.4889\n",
        "\n",
        "R:CONJ         12       5        12       0.7059   0.5      0.6522\n",
        "\n",
        "R:DET          419      195      275      0.6824   0.6037   0.6651\n",
        "\n",
        "R:MORPH        129      44       71       0.7457   0.645    0.7231\n",
        "\n",
        "R:NOUN         1904     1057     1283     0.643    0.5974   0.6334\n",
        "\n",
        "R:NOUN:INFL    4        0        0        1.0      1.0      1.0\n",
        "\n",
        "R:NOUN:NUM     230      82       78       0.7372   0.7468   0.7391\n",
        "\n",
        "R:NOUN:POSS    0        0        1        1.0      0.0      0.0\n",
        "\n",
        "R:ORTH         120      33       37       0.7843   0.7643   0.7802\n",
        "\n",
        "R:OTHER        5971     5542     6185     0.5186   0.4912   0.5129\n",
        "\n",
        "R:PART         32       24       33       0.5714   0.4923   0.5536\n",
        "\n",
        "R:PREP         684      461      575      0.5974   0.5433   0.5857\n",
        "\n",
        "R:PRON         77       46       50       0.626    0.6063   0.622\n",
        "\n",
        "R:PUNCT        5        2        8        0.7143   0.3846   0.6098\n",
        "\n",
        "R:SPELL        676      158      216      0.8106   0.7578   0.7994\n",
        "\n",
        "R:VERB         478      407      502      0.5401   0.4878   0.5288\n",
        "\n",
        "R:VERB:FORM    86       46       56       0.6515   0.6056   0.6418\n",
        "\n",
        "R:VERB:INFL    13       3        3        0.8125   0.8125   0.8125\n",
        "\n",
        "R:VERB:SVA     100      47       37       0.6803   0.7299   0.6897\n",
        "\n",
        "R:VERB:TENSE   154      85       93       0.6444   0.6235   0.6401\n",
        "\n",
        "R:WO           36       17       38       0.6792   0.4865   0.6294\n",
        "\n",
        "U:ADJ          29       10       16       0.7436   0.6444   0.7214\n",
        "\n",
        "U:ADV          27       23       34       0.54     0.4426   0.5172\n",
        "\n",
        "U:CONJ         21       13       25       0.6176   0.4565   0.5769\n",
        "\n",
        "U:DET          260      100      76       0.7222   0.7738   0.732\n",
        "\n",
        "U:NOUN         107      60       96       0.6407   0.5271   0.6142\n",
        "\n",
        "U:OTHER        398      217      343      0.6472   0.5371   0.6217\n",
        "\n",
        "U:PART         7        4        3        0.6364   0.7      0.6481\n",
        "\n",
        "U:PREP         210      71       90       0.7473   0.7      0.7374\n",
        "\n",
        "U:PRON         24       20       20       0.5455   0.5455   0.5455\n",
        "\n",
        "U:PUNCT        11       7        13       0.6111   0.4583   0.5729\n",
        "\n",
        "U:VERB         47       23       40       0.6714   0.5402   0.6403\n",
        "\n",
        "U:VERB:FORM    2        0        0        1.0      1.0      1.0\n",
        "\n",
        "U:VERB:TENSE   12       11       10       0.5217   0.5455   0.5263\n",
        "\n",
        "\n",
        "\n",
        "=========== Span-Based Correction ============\n",
        "\n",
        "TP\tFP\tFN\tPrec\tRec\tF0.5\n",
        "\n",
        "13892\t9715\t11627\t0.5885\t0.5444\t0.5791\n",
        "\n",
        "==============================================\n"
      ],
      "metadata": {
        "id": "0y2PNYH5VYeg"
      }
    },
    {
      "cell_type": "markdown",
      "source": [
        "============ Span-Based Detection ============\n",
        "\n",
        "TP\tFP\tFN\tPrec\tRec\tF0.5\n",
        "\n",
        "16773\t6832\t8746\t0.7106\t0.6573\t0.6992\n",
        "\n",
        "=============================================="
      ],
      "metadata": {
        "id": "myij_WGAuxKl"
      }
    },
    {
      "cell_type": "markdown",
      "source": [
        "====================== Span-Based Detection ======================\n",
        "\n",
        "Category       TP       FP       FN       P        R        F0.5\n",
        "\n",
        "M              1377     495      807      0.7356   0.6305   0.7118\n",
        "\n",
        "R              14134    5864     7280     0.7068   0.66     0.6969\n",
        "\n",
        "U              1262     473      659      0.7274   0.6569   0.7121\n",
        "\n",
        "\n",
        "============ Span-Based Detection ============\n",
        "\n",
        "TP\tFP\tFN\tPrec\tRec\tF0.5\n",
        "\n",
        "16773\t6832\t8746\t0.7106\t0.6573\t0.6992\n",
        "\n",
        "==============================================\n"
      ],
      "metadata": {
        "id": "rZFPxkknUMUN"
      }
    },
    {
      "cell_type": "markdown",
      "source": [
        "====================== Span-Based Detection ======================\n",
        "\n",
        "Category       TP       FP       FN       P        R        F0.5\n",
        "\n",
        "ADJ            450      139      232      0.764    0.6598   0.7406\n",
        "\n",
        "ADJ:FORM       5        2        6        0.7143   0.4545   0.641\n",
        "\n",
        "ADV            115      59       130      0.6609   0.4694   0.6111\n",
        "\n",
        "CONJ           68       26       57       0.7234   0.544    0.6786\n",
        "\n",
        "DET            1412     355      433      0.7991   0.7653   0.7921\n",
        "\n",
        "MORPH          146      23       54       0.8639   0.73     0.8333\n",
        "\n",
        "NOUN           2525     791      1058     0.7615   0.7047   0.7494\n",
        "\n",
        "NOUN:INFL      4        0        0        1.0      1.0      1.0\n",
        "\n",
        "NOUN:NUM       236      61       72       0.7946   0.7662   0.7888\n",
        "\n",
        "NOUN:POSS      0        0        1        1.0      0.0      0.0\n",
        "\n",
        "ORTH           126      22       31       0.8514   0.8025   0.8411\n",
        "\n",
        "OTHER          8299     4263     5178     0.6606   0.6158   0.6512\n",
        "\n",
        "PART           45       26       31       0.6338   0.5921   0.625\n",
        "\n",
        "PREP           1176     445      624      0.7255   0.6533   0.7098\n",
        "\n",
        "PRON           124      66       66       0.6526   0.6526   0.6526\n",
        "\n",
        "PUNCT          28       10       26       0.7368   0.5185   0.6796\n",
        "\n",
        "SPELL          806      74       86       0.9159   0.9036   0.9134\n",
        "\n",
        "VERB           741      309      444      0.7057   0.6253   0.688\n",
        "\n",
        "VERB:FORM      102      30       43       0.7727   0.7034   0.7578\n",
        "\n",
        "VERB:INFL      16       1        0        0.9412   1.0      0.9524\n",
        "\n",
        "VERB:SVA       111      29       26       0.7929   0.8102   0.7963\n",
        "\n",
        "VERB:TENSE     202      85       110      0.7038   0.6474   0.6918\n",
        "\n",
        "WO             36       16       38       0.6923   0.4865   0.6383\n",
        "\n",
        "\n",
        "============ Span-Based Detection ============\n",
        "\n",
        "TP\tFP\tFN\tPrec\tRec\tF0.5\n",
        "\n",
        "16773\t6832\t8746\t0.7106\t0.6573\t0.6992\n",
        "\n",
        "==============================================\n"
      ],
      "metadata": {
        "id": "gh_6_AbsU7f1"
      }
    },
    {
      "cell_type": "markdown",
      "source": [
        "====================== Span-Based Detection ======================\n",
        "\n",
        "Category       TP       FP       FN       P        R        F0.5\n",
        "\n",
        "M:ADJ          24       13       36       0.6486   0.4      0.5769\n",
        "\n",
        "\n",
        "M:ADV          14       7        27       0.6667   0.3415   0.56\n",
        "\n",
        "M:CONJ         30       15       25       0.6667   0.5455   0.6383\n",
        "\n",
        "M:DET          662      139      153      0.8265   0.8123   0.8236\n",
        "\n",
        "M:NOUN         90       64       103      0.5844   0.4663   0.5562\n",
        "\n",
        "M:OTHER        323      131      257      0.7115   0.5569   0.674\n",
        "\n",
        "M:PART         1        1        0        0.5      1.0      0.5556\n",
        "\n",
        "M:PREP         143      60       98       0.7044   0.5934   0.679\n",
        "\n",
        "M:PRON         10       14       9        0.4167   0.5263   0.4348\n",
        "\n",
        "M:PUNCT        6        6        11       0.5      0.3529   0.4615\n",
        "\n",
        "M:VERB         56       32       62       0.6364   0.4746   0.5957\n",
        "\n",
        "M:VERB:FORM    1        1        0        0.5      1.0      0.5556\n",
        "\n",
        "M:VERB:TENSE   17       12       26       0.5862   0.3953   0.5346\n",
        "\n",
        "R:ADJ          392      118      185      0.7686   0.6794   0.7489\n",
        "\n",
        "R:ADJ:FORM     5        2        6        0.7143   0.4545   0.641\n",
        "\n",
        "R:ADV          72       35       71       0.6729   0.5035   0.6305\n",
        "\n",
        "R:CONJ         13       4        11       0.7647   0.5417   0.7065\n",
        "\n",
        "R:DET          475      136      219      0.7774   0.6844   0.7569\n",
        "\n",
        "R:MORPH        146      23       54       0.8639   0.73     0.8333\n",
        "\n",
        "R:NOUN         2302     678      885      0.7725   0.7223   0.7619\n",
        "\n",
        "R:NOUN:INFL    4        0        0        1.0      1.0      1.0\n",
        "\n",
        "R:NOUN:NUM     236      61       72       0.7946   0.7662   0.7888\n",
        "\n",
        "R:NOUN:POSS    0        0        1        1.0      0.0      0.0\n",
        "\n",
        "R:ORTH         126      22       31       0.8514   0.8025   0.8411\n",
        "\n",
        "R:OTHER        7554     3928     4602     0.6579   0.6214   0.6503\n",
        "\n",
        "R:PART         37       21       28       0.6379   0.5692   0.6229\n",
        "\n",
        "R:PREP         807      329      452      0.7104   0.641    0.6953\n",
        "\n",
        "R:PRON         86       34       41       0.7167   0.6772   0.7084\n",
        "\n",
        "R:PUNCT        10       1        3        0.9091   0.7692   0.8772\n",
        "\n",
        "R:SPELL        806      74       86       0.9159   0.9036   0.9134\n",
        "\n",
        "R:VERB         630      257      350      0.7103   0.6429   0.6957\n",
        "\n",
        "R:VERB:FORM    99       29       43       0.7734   0.6972   0.7569\n",
        "\n",
        "R:VERB:INFL    16       1        0        0.9412   1.0      0.9524\n",
        "\n",
        "R:VERB:SVA     111      29       26       0.7929   0.8102   0.7963\n",
        "\n",
        "R:VERB:TENSE   171      66       76       0.7215   0.6923   0.7155\n",
        "\n",
        "R:WO           36       16       38       0.6923   0.4865   0.6383\n",
        "\n",
        "U:ADJ          34       8        11       0.8095   0.7556   0.7981\n",
        "\n",
        "U:ADV          29       17       32       0.6304   0.4754   0.5918\n",
        "\n",
        "U:CONJ         25       7        21       0.7812   0.5435   0.7184\n",
        "\n",
        "U:DET          275      80       61       0.7746   0.8185   0.783\n",
        "\n",
        "U:NOUN         133      49       70       0.7308   0.6552   0.7143\n",
        "\n",
        "U:OTHER        422      204      319      0.6741   0.5695   0.6502\n",
        "\n",
        "U:PART         7        4        3        0.6364   0.7      0.6481\n",
        "\n",
        "U:PREP         226      56       74       0.8014   0.7533   0.7913\n",
        "\n",
        "U:PRON         28       18       16       0.6087   0.6364   0.614\n",
        "\n",
        "U:PUNCT        12       3        12       0.8      0.5      0.7143\n",
        "\n",
        "U:VERB         55       20       32       0.7333   0.6322   0.7106\n",
        "\n",
        "U:VERB:FORM    2        0        0        1.0      1.0      1.0\n",
        "\n",
        "U:VERB:TENSE   14       7        8        0.6667   0.6364   0.6604\n",
        "\n",
        "============ Span-Based Detection ============\n",
        "\n",
        "TP\tFP\tFN\tPrec\tRec\tF0.5\n",
        "\n",
        "16773\t6832\t8746\t0.7106\t0.6573\t0.6992\n",
        "\n",
        "=============================================="
      ],
      "metadata": {
        "id": "zXvFymviVI7u"
      }
    },
    {
      "cell_type": "code",
      "source": [],
      "metadata": {
        "id": "40-YItzfU4J2"
      },
      "execution_count": null,
      "outputs": []
    }
  ]
}