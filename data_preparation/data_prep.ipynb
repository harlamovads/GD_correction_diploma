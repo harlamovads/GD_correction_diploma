{
 "cells": [
  {
   "cell_type": "code",
   "execution_count": 1,
   "metadata": {},
   "outputs": [],
   "source": [
    "import pandas as pd\n",
    "import numpy as np\n",
    "import matplotlib.pyplot as plt\n",
    "from tqdm import tqdm\n",
    "import json\n",
    "import os\n",
    "import nltk.data"
   ]
  },
  {
   "cell_type": "code",
   "execution_count": 2,
   "metadata": {},
   "outputs": [
    {
     "name": "stderr",
     "output_type": "stream",
     "text": [
      "[nltk_data] Downloading package punkt_tab to\n",
      "[nltk_data]     /home/zlovoblachko/nltk_data...\n",
      "[nltk_data]   Package punkt_tab is already up-to-date!\n"
     ]
    }
   ],
   "source": [
    "nltk.download('punkt_tab')\n",
    "tokenizer = nltk.data.load('tokenizers/punkt/english.pickle')"
   ]
  },
  {
   "cell_type": "code",
   "execution_count": 3,
   "metadata": {},
   "outputs": [],
   "source": [
    "json_thingie = []"
   ]
  },
  {
   "cell_type": "code",
   "execution_count": 7,
   "metadata": {},
   "outputs": [],
   "source": [
    "errors_correspondence = {'Capitalisation': 'ORTH',\n",
    "                         'Formational_affixes': 'FORM',\n",
    "                         'Derivation': 'FORM',\n",
    "                         'Noun_number': 'FORM', \n",
    "                         'Countable_uncountable': 'FORM',\n",
    "                         'Category_confusion': 'MORPH',\n",
    "                         'Articles': 'DET',\n",
    "                         'Determiners': 'DET',\n",
    "                         'Prepositional_noun': 'POS', # PREP\n",
    "                         'Prepositions': 'POS', # PREP\n",
    "                         'Verb_pattern': 'POS', # PREP\n",
    "                         'Conjunctions': 'POS', # CONJ\n",
    "                         'Pronouns': 'POS', # PRON\n",
    "                         'Tense_choice': 'VERB', \n",
    "                         'Tense_form': 'VERB',\n",
    "                         'Voice': 'VERB',\n",
    "                         'Modals': 'VERB',\n",
    "                         'Numerals': 'NUM',\n",
    "                         'lex_item_choice': 'WORD',\n",
    "                         'Absence_comp_sent': 'WORD',\n",
    "                         'Inappropriate_register': 'WORD',\n",
    "                         'Ref_device': 'WORD', \n",
    "                         'Linking_device': 'WORD',\n",
    "                         'Punctuation': 'PUNCT',\n",
    "                         'Relative_clause': 'PUNCT',\n",
    "                         'Redundant_comp': 'RED', \n",
    "                         'Confusion_of_structures': 'MULTIWORD',\n",
    "                         'Word_order': 'MULTIWORD', \n",
    "                         'Word_choice': 'MULTIWORD',\n",
    "                         'Absence_explanation': 'MULTIWORD',\n",
    "                         'Coherence': 'MULTIWORD',\n",
    "                         'Spelling': 'SPELL'\n",
    "                         }"
   ]
  },
  {
   "cell_type": "markdown",
   "metadata": {},
   "source": [
    "Filtered training dataset (only includes the official native tags listed above)"
   ]
  },
  {
   "cell_type": "code",
   "execution_count": 8,
   "metadata": {},
   "outputs": [],
   "source": [
    "directory = \"/home/zlovoblachko/GD_correction_diploma/data/rawfiles\"\n",
    "for file in os.listdir(directory):\n",
    "    filename = os.fsdecode(file)\n",
    "    if filename.endswith('.txt') and filename.split(\".\")[0][-1] == '1':\n",
    "        with open(os.path.join(directory, filename), 'r') as f:\n",
    "            text = f.read()\n",
    "        with open (os.path.join(directory, filename.split(\".\")[0] + \".ann\"), \"r\") as ann_file:\n",
    "            ann_data = ann_file.readlines()\n",
    "    text_code = filename.split(\".\")[0]\n",
    "    tags = []\n",
    "    for line in ann_data:\n",
    "        if line.startswith(\"T\"):\n",
    "            try:\n",
    "                line = line.split(\"\\t\")\n",
    "                ann_code = line[0]\n",
    "                error_info = line[1].split(\" \")\n",
    "                print\n",
    "                native_tag = error_info[0]\n",
    "                if len(native_tag) == 3:\n",
    "                    raise ValueError\n",
    "                realec_tag = error_info[0]\n",
    "                span_start = error_info[1]\n",
    "                span_end = error_info[2]\n",
    "                error_span = line[2][:-1]\n",
    "                for further_line in ann_data:\n",
    "                    if further_line.startswith(\"A\"):\n",
    "                        if ann_code in further_line:\n",
    "                            correction = \"\"\n",
    "                            first_level_tag = \"U\"\n",
    "                            break\n",
    "                    if further_line.startswith(\"#\") and \"lemma\" not in further_line:\n",
    "                        if ann_code in further_line:\n",
    "                            correction = further_line.split(\"\\t\")[2].strip()\n",
    "                            if error_span in correction:\n",
    "                                first_level_tag = \"M\"\n",
    "                            else:\n",
    "                                first_level_tag = \"R\"\n",
    "                            break\n",
    "                if realec_tag in errors_correspondence:\n",
    "                    second_level_tag = errors_correspondence[realec_tag]\n",
    "                if native_tag in errors_correspondence.keys():\n",
    "                    tags.append({'error_span': error_span, \n",
    "                                 'correction': correction, \n",
    "                                 'span_start': span_start, \n",
    "                                 'span_end': span_end, \n",
    "                                 'native_tag': native_tag, \n",
    "                                 'first_level_tag': first_level_tag,\n",
    "                                 'second_level_tag': errors_correspondence[native_tag]})\n",
    "            except:\n",
    "                pass\n",
    "    json_thingie.append({\"text\": text, \"tags\": tags})\n",
    "            "
   ]
  },
  {
   "cell_type": "markdown",
   "metadata": {},
   "source": [
    "Unfiltered dataset (includes the automatically tagged data) - intended for pretraining"
   ]
  },
  {
   "cell_type": "code",
   "execution_count": 4,
   "metadata": {},
   "outputs": [],
   "source": [
    "directory = \"/home/zlovoblachko/GD_correction_diploma/data/rawfiles\"\n",
    "for file in os.listdir(directory):\n",
    "    filename = os.fsdecode(file)\n",
    "    if filename.endswith('.txt') and filename.split(\".\")[0][-1] == '1':\n",
    "        with open(os.path.join(directory, filename), 'r') as f:\n",
    "            text = f.read()\n",
    "        with open (os.path.join(directory, filename.split(\".\")[0] + \".ann\"), \"r\") as ann_file:\n",
    "            ann_data = ann_file.readlines()\n",
    "    text_code = filename.split(\".\")[0]\n",
    "    tags = []\n",
    "    for line in ann_data:\n",
    "        if line.startswith(\"T\"):\n",
    "            try:\n",
    "                line = line.split(\"\\t\")\n",
    "                ann_code = line[0]\n",
    "                error_info = line[1].split(\" \")\n",
    "                print\n",
    "                native_tag = error_info[0]\n",
    "                if len(native_tag) == 3:\n",
    "                    raise ValueError\n",
    "                realec_tag = error_info[0]\n",
    "                span_start = error_info[1]\n",
    "                span_end = error_info[2]\n",
    "                error_span = line[2][:-1]\n",
    "                for further_line in ann_data:\n",
    "                    if further_line.startswith(\"A\"):\n",
    "                        if ann_code in further_line:\n",
    "                            correction = \"\"\n",
    "                            first_level_tag = \"U\"\n",
    "                            break\n",
    "                    if further_line.startswith(\"#\") and \"lemma\" not in further_line:\n",
    "                        if ann_code in further_line:\n",
    "                            correction = further_line.split(\"\\t\")[2].strip()\n",
    "                            if error_span in correction:\n",
    "                                first_level_tag = \"M\"\n",
    "                            else:\n",
    "                                first_level_tag = \"R\"\n",
    "                            break\n",
    "                if native_tag in [\"disc\", \"gram\", \"punct\", \"Delete\", \"vocab\", \"disc\", \"comp\", \"spell\"]:\n",
    "                    tags.append({'error_span': error_span, \n",
    "                                 'correction': correction, \n",
    "                                 'span_start': span_start, \n",
    "                                 'span_end': span_end, \n",
    "                                 'native_tag': native_tag, \n",
    "                                 'first_level_tag': first_level_tag})\n",
    "            except:\n",
    "                pass\n",
    "    json_thingie.append({\"text\": text, \"tags\": tags})"
   ]
  },
  {
   "cell_type": "markdown",
   "metadata": {},
   "source": [
    "The cells below are executable with any version of the dataset produced above"
   ]
  },
  {
   "cell_type": "code",
   "execution_count": 5,
   "metadata": {},
   "outputs": [
    {
     "data": {
      "text/plain": [
       "9383"
      ]
     },
     "execution_count": 5,
     "metadata": {},
     "output_type": "execute_result"
    }
   ],
   "source": [
    "unique_json_thingie = {each['text']: each for each in json_thingie}.values()\n",
    "len(unique_json_thingie)"
   ]
  },
  {
   "cell_type": "code",
   "execution_count": 6,
   "metadata": {},
   "outputs": [
    {
     "name": "stdout",
     "output_type": "stream",
     "text": [
      "Generated pretraining_dataset_full.jsonl with 9383 entries.\n"
     ]
    }
   ],
   "source": [
    "output_filename = \"pretraining_dataset_full.jsonl\"\n",
    "with open(output_filename, \"w\", encoding=\"utf-8\") as f:\n",
    "    for entry in unique_json_thingie:\n",
    "        f.write(json.dumps(entry, ensure_ascii=False) + \"\\n\")\n",
    "print(f\"Generated {output_filename} with {len(unique_json_thingie)} entries.\")"
   ]
  },
  {
   "cell_type": "code",
   "execution_count": 7,
   "metadata": {},
   "outputs": [],
   "source": [
    "jsonl_file = \"pretraining_dataset_full.jsonl\""
   ]
  },
  {
   "cell_type": "code",
   "execution_count": 8,
   "metadata": {},
   "outputs": [],
   "source": [
    "with open(jsonl_file, \"r\", encoding=\"utf-8\") as f:\n",
    "    training_data = [json.loads(line) for line in f]"
   ]
  },
  {
   "cell_type": "markdown",
   "metadata": {},
   "source": [
    "Training dataset:"
   ]
  },
  {
   "cell_type": "code",
   "execution_count": 13,
   "metadata": {},
   "outputs": [
    {
     "data": {
      "text/plain": [
       "{'text': 'The chart illustrates the number in percents of overweight children in Canada throughout a 20-years period from 1985 to 2005, while the table demonstrates the percentage of children doing sport exercises regulary over the period from 1990 to 2005.\\nOverall, it can be seen that despite the fact that the number of boys and girls performing exercises has grown considerably by the end of the period, percent of overweight children has increased too.\\nAccording to the graph, boys are more likely to have extra weight in period of 2000-2005, a quater of them had problems with weight in 2005. Girls were going ahead of boys in 1985-1990, then they maintained the same level in 1995, but then the number of outweight boys went up more rapidly.\\nThe table allows to see that interest in physical activity has grown by more than 25% both within boys and girls by 2005.',\n",
       " 'tags': [{'error_span': 'sport',\n",
       "   'correction': 'sports',\n",
       "   'span_start': '188',\n",
       "   'span_end': '193',\n",
       "   'native_tag': 'Noun_number',\n",
       "   'first_level_tag': 'M',\n",
       "   'second_level_tag': 'FORM'},\n",
       "  {'error_span': 'regulary',\n",
       "   'correction': 'regularly',\n",
       "   'span_start': '204',\n",
       "   'span_end': '212',\n",
       "   'native_tag': 'Spelling',\n",
       "   'first_level_tag': 'R',\n",
       "   'second_level_tag': 'SPELL'},\n",
       "  {'error_span': 'percent',\n",
       "   'correction': 'the percentage',\n",
       "   'span_start': '398',\n",
       "   'span_end': '405',\n",
       "   'native_tag': 'Articles',\n",
       "   'first_level_tag': 'M',\n",
       "   'second_level_tag': 'DET'},\n",
       "  {'error_span': 'percent',\n",
       "   'correction': 'percentage',\n",
       "   'span_start': '398',\n",
       "   'span_end': '405',\n",
       "   'native_tag': 'Category_confusion',\n",
       "   'first_level_tag': 'M',\n",
       "   'second_level_tag': 'MORPH'},\n",
       "  {'error_span': 'period',\n",
       "   'correction': 'the period',\n",
       "   'span_start': '517',\n",
       "   'span_end': '523',\n",
       "   'native_tag': 'Articles',\n",
       "   'first_level_tag': 'M',\n",
       "   'second_level_tag': 'DET'},\n",
       "  {'error_span': 'quater',\n",
       "   'correction': 'quarter',\n",
       "   'span_start': '540',\n",
       "   'span_end': '546',\n",
       "   'native_tag': 'Spelling',\n",
       "   'first_level_tag': 'R',\n",
       "   'second_level_tag': 'SPELL'}]}"
      ]
     },
     "execution_count": 13,
     "metadata": {},
     "output_type": "execute_result"
    }
   ],
   "source": [
    "training_data[0]"
   ]
  },
  {
   "cell_type": "code",
   "execution_count": 8,
   "metadata": {},
   "outputs": [
    {
     "data": {
      "text/plain": [
       "'20-years'"
      ]
     },
     "execution_count": 8,
     "metadata": {},
     "output_type": "execute_result"
    }
   ],
   "source": [
    "training_data[0]['text'][int(training_data[0]['tags'][1]['span_start']):int(training_data[0]['tags'][1]['span_end'])]"
   ]
  },
  {
   "cell_type": "code",
   "execution_count": null,
   "metadata": {},
   "outputs": [
    {
     "data": {
      "text/plain": [
       "860"
      ]
     },
     "execution_count": 15,
     "metadata": {},
     "output_type": "execute_result"
    }
   ],
   "source": [
    "len(training_data[0]['text'])"
   ]
  },
  {
   "cell_type": "code",
   "execution_count": 17,
   "metadata": {},
   "outputs": [
    {
     "data": {
      "text/plain": [
       "860"
      ]
     },
     "execution_count": 17,
     "metadata": {},
     "output_type": "execute_result"
    }
   ],
   "source": [
    "len(' '.join(nltk.sent_tokenize(training_data[0]['text'])))"
   ]
  },
  {
   "cell_type": "code",
   "execution_count": 96,
   "metadata": {},
   "outputs": [],
   "source": [
    "sentencewise_data = []\n",
    "overlapping_data = []\n",
    "\n",
    "for item in training_data:\n",
    "    original_text = item['text']\n",
    "    sentences_set = nltk.sent_tokenize(original_text)\n",
    "    boundaries = []\n",
    "    current_pos = 0\n",
    "    for sentence in sentences_set:\n",
    "        sent_start = original_text.find(sentence, current_pos)\n",
    "        if sent_start == -1:\n",
    "            raise ValueError(\"Sentence not found in original text\")\n",
    "        sent_end = sent_start + len(sentence)\n",
    "        boundaries.append((sent_start, sent_end))\n",
    "        current_pos = sent_end\n",
    "    for i, (sent_start, sent_end) in enumerate(boundaries):\n",
    "        sentence = sentences_set[i]\n",
    "        new_tags = []\n",
    "        tag_ranges = []\n",
    "        for tag in item.get('tags', []):\n",
    "            try:\n",
    "                if not tag['span_start'] or not tag['span_end']:\n",
    "                    continue\n",
    "                tag_start = int(tag['span_start'])\n",
    "                tag_end = int(tag['span_end'])\n",
    "                if sent_start <= tag_start < sent_end and sent_start < tag_end <= sent_end:\n",
    "                    adjusted_tag = {\n",
    "                        'error_span': tag['error_span'],\n",
    "                        'correction': tag['correction'],\n",
    "                        'span_start': str(tag_start - sent_start),\n",
    "                        'span_end': str(tag_end - sent_start),\n",
    "                        'native_tag': tag['native_tag'],\n",
    "                        'first_level_tag': tag['first_level_tag'],\n",
    "                        'second_level_tag': tag['second_level_tag']\n",
    "                    }\n",
    "                    new_tags.append(adjusted_tag)\n",
    "                    tag_ranges.append((tag_start, tag_end))\n",
    "            except (ValueError, KeyError) as e:\n",
    "                print(f\"Error: {e}\")\n",
    "                continue\n",
    "        has_overlap = False\n",
    "        if len(tag_ranges) > 1:\n",
    "            tag_ranges.sort()\n",
    "            for j in range(1, len(tag_ranges)):\n",
    "                prev_start, prev_end = tag_ranges[j-1]\n",
    "                curr_start, curr_end = tag_ranges[j]\n",
    "                if curr_start < prev_end:\n",
    "                    has_overlap = True\n",
    "                    break\n",
    "        if len(new_tags) > 0:\n",
    "            entry = {\n",
    "                'text': sentence,\n",
    "                'tags': new_tags\n",
    "            }\n",
    "            if has_overlap:\n",
    "                overlapping_data.append(entry)\n",
    "            else:\n",
    "                sentencewise_data.append(entry)"
   ]
  },
  {
   "cell_type": "code",
   "execution_count": 98,
   "metadata": {},
   "outputs": [
    {
     "data": {
      "text/plain": [
       "35582"
      ]
     },
     "execution_count": 98,
     "metadata": {},
     "output_type": "execute_result"
    }
   ],
   "source": [
    "len(sentencewise_data)"
   ]
  },
  {
   "cell_type": "code",
   "execution_count": 99,
   "metadata": {},
   "outputs": [
    {
     "data": {
      "text/plain": [
       "5518"
      ]
     },
     "execution_count": 99,
     "metadata": {},
     "output_type": "execute_result"
    }
   ],
   "source": [
    "len(overlapping_data)"
   ]
  },
  {
   "cell_type": "code",
   "execution_count": 100,
   "metadata": {},
   "outputs": [
    {
     "name": "stdout",
     "output_type": "stream",
     "text": [
      "Generated sentencewise_full.jsonl with 35582 entries.\n",
      "Generated overlapping_full.jsonl with 5518 entries.\n"
     ]
    }
   ],
   "source": [
    "output_filename = \"sentencewise_full.jsonl\"\n",
    "with open(output_filename, \"w\", encoding=\"utf-8\") as f:\n",
    "    for entry in sentencewise_data:\n",
    "        f.write(json.dumps(entry, ensure_ascii=False) + \"\\n\")\n",
    "print(f\"Generated {output_filename} with {len(sentencewise_data)} entries.\")\n",
    "\n",
    "output_filename = \"overlapping_full.jsonl\"\n",
    "with open(output_filename, \"w\", encoding=\"utf-8\") as f:\n",
    "    for entry in overlapping_data:\n",
    "        f.write(json.dumps(entry, ensure_ascii=False) + \"\\n\")\n",
    "print(f\"Generated {output_filename} with {len(overlapping_data)} entries.\")"
   ]
  },
  {
   "cell_type": "markdown",
   "metadata": {},
   "source": [
    "Pretraining dataset:"
   ]
  },
  {
   "cell_type": "code",
   "execution_count": 10,
   "metadata": {},
   "outputs": [
    {
     "data": {
      "text/plain": [
       "{'text': 'The chart illustrates the number in percents of overweight children in Canada throughout a 20-years period from 1985 to 2005, while the table demonstrates the percentage of children doing sport exercises regulary over the period from 1990 to 2005.\\nOverall, it can be seen that despite the fact that the number of boys and girls performing exercises has grown considerably by the end of the period, percent of overweight children has increased too.\\nAccording to the graph, boys are more likely to have extra weight in period of 2000-2005, a quater of them had problems with weight in 2005. Girls were going ahead of boys in 1985-1990, then they maintained the same level in 1995, but then the number of outweight boys went up more rapidly.\\nThe table allows to see that interest in physical activity has grown by more than 25% both within boys and girls by 2005.',\n",
       " 'tags': [{'error_span': 'percents',\n",
       "   'correction': 'percent',\n",
       "   'span_start': '36',\n",
       "   'span_end': '44',\n",
       "   'native_tag': 'gram',\n",
       "   'first_level_tag': 'R'},\n",
       "  {'error_span': '20-years',\n",
       "   'correction': '20-year',\n",
       "   'span_start': '91',\n",
       "   'span_end': '99',\n",
       "   'native_tag': 'gram',\n",
       "   'first_level_tag': 'R'},\n",
       "  {'error_span': 'performing exercises',\n",
       "   'correction': 'doing exercise',\n",
       "   'span_start': '328',\n",
       "   'span_end': '348',\n",
       "   'native_tag': 'gram',\n",
       "   'first_level_tag': 'R'},\n",
       "  {'error_span': 'of',\n",
       "   'correction': '',\n",
       "   'span_start': '524',\n",
       "   'span_end': '526',\n",
       "   'native_tag': 'disc',\n",
       "   'first_level_tag': 'U'},\n",
       "  {'error_span': ',',\n",
       "   'correction': ';',\n",
       "   'span_start': '536',\n",
       "   'span_end': '537',\n",
       "   'native_tag': 'punct',\n",
       "   'first_level_tag': 'R'},\n",
       "  {'error_span': 'outweight',\n",
       "   'correction': 'overweight',\n",
       "   'span_start': '702',\n",
       "   'span_end': '711',\n",
       "   'native_tag': 'vocab',\n",
       "   'first_level_tag': 'R'},\n",
       "  {'error_span': 'allows',\n",
       "   'correction': 'allows us',\n",
       "   'span_start': '749',\n",
       "   'span_end': '755',\n",
       "   'native_tag': 'gram',\n",
       "   'first_level_tag': 'M'},\n",
       "  {'error_span': 'within',\n",
       "   'correction': 'among',\n",
       "   'span_start': '830',\n",
       "   'span_end': '836',\n",
       "   'native_tag': 'vocab',\n",
       "   'first_level_tag': 'R'}]}"
      ]
     },
     "execution_count": 10,
     "metadata": {},
     "output_type": "execute_result"
    }
   ],
   "source": [
    "training_data[0]"
   ]
  },
  {
   "cell_type": "code",
   "execution_count": 11,
   "metadata": {},
   "outputs": [
    {
     "data": {
      "text/plain": [
       "'20-years'"
      ]
     },
     "execution_count": 11,
     "metadata": {},
     "output_type": "execute_result"
    }
   ],
   "source": [
    "training_data[0]['text'][int(training_data[0]['tags'][1]['span_start']):int(training_data[0]['tags'][1]['span_end'])]"
   ]
  },
  {
   "cell_type": "code",
   "execution_count": 12,
   "metadata": {},
   "outputs": [
    {
     "data": {
      "text/plain": [
       "860"
      ]
     },
     "execution_count": 12,
     "metadata": {},
     "output_type": "execute_result"
    }
   ],
   "source": [
    "len(training_data[0]['text'])"
   ]
  },
  {
   "cell_type": "code",
   "execution_count": 13,
   "metadata": {},
   "outputs": [
    {
     "data": {
      "text/plain": [
       "860"
      ]
     },
     "execution_count": 13,
     "metadata": {},
     "output_type": "execute_result"
    }
   ],
   "source": [
    "len(' '.join(nltk.sent_tokenize(training_data[0]['text'])))"
   ]
  },
  {
   "cell_type": "code",
   "execution_count": 14,
   "metadata": {},
   "outputs": [],
   "source": [
    "sentencewise_data = []\n",
    "\n",
    "for item in training_data:\n",
    "    original_text = item['text']\n",
    "    sentences_set = nltk.sent_tokenize(original_text)\n",
    "    boundaries = []\n",
    "    current_pos = 0\n",
    "    for sentence in sentences_set:\n",
    "        sent_start = original_text.find(sentence, current_pos)\n",
    "        if sent_start == -1:\n",
    "            raise ValueError(\"Sentence not found in original text\")\n",
    "        sent_end = sent_start + len(sentence)\n",
    "        boundaries.append((sent_start, sent_end))\n",
    "        current_pos = sent_end\n",
    "    for i, (sent_start, sent_end) in enumerate(boundaries):\n",
    "        sentence = sentences_set[i]\n",
    "        new_tags = []\n",
    "        tag_ranges = []\n",
    "        for tag in item.get('tags', []):\n",
    "            try:\n",
    "                if not tag['span_start'] or not tag['span_end']:\n",
    "                    continue\n",
    "                tag_start = int(tag['span_start'])\n",
    "                tag_end = int(tag['span_end'])\n",
    "                if sent_start <= tag_start < sent_end and sent_start < tag_end <= sent_end:\n",
    "                    adjusted_tag = {\n",
    "                        'error_span': tag['error_span'],\n",
    "                        'correction': tag['correction'],\n",
    "                        'span_start': str(tag_start - sent_start),\n",
    "                        'span_end': str(tag_end - sent_start),\n",
    "                        'native_tag': tag['native_tag'],\n",
    "                        'first_level_tag': tag['first_level_tag']\n",
    "                    }\n",
    "                    new_tags.append(adjusted_tag)\n",
    "                    tag_ranges.append((tag_start, tag_end))\n",
    "            except (ValueError, KeyError) as e:\n",
    "                print(f\"Error: {e}\")\n",
    "                continue\n",
    "        has_overlap = False\n",
    "        if len(tag_ranges) > 1:\n",
    "            tag_ranges.sort()\n",
    "            for j in range(1, len(tag_ranges)):\n",
    "                prev_start, prev_end = tag_ranges[j-1]\n",
    "                curr_start, curr_end = tag_ranges[j]\n",
    "                if curr_start < prev_end:\n",
    "                    has_overlap = True\n",
    "                    break\n",
    "        if len(new_tags) > 0:\n",
    "            entry = {\n",
    "                'text': sentence,\n",
    "                'tags': new_tags\n",
    "            }\n",
    "            sentencewise_data.append(entry)"
   ]
  },
  {
   "cell_type": "code",
   "execution_count": 15,
   "metadata": {},
   "outputs": [
    {
     "data": {
      "text/plain": [
       "24729"
      ]
     },
     "execution_count": 15,
     "metadata": {},
     "output_type": "execute_result"
    }
   ],
   "source": [
    "len(sentencewise_data)"
   ]
  },
  {
   "cell_type": "markdown",
   "metadata": {},
   "source": [
    "## Checking and visualisation"
   ]
  },
  {
   "cell_type": "code",
   "execution_count": 101,
   "metadata": {},
   "outputs": [],
   "source": [
    "import random\n",
    "from IPython.display import display, HTML\n",
    "import matplotlib.pyplot as plt"
   ]
  },
  {
   "cell_type": "code",
   "execution_count": 102,
   "metadata": {},
   "outputs": [],
   "source": [
    "sample_sentencewise = random.sample(sentencewise_data, min(10, len(sentencewise_data)))\n",
    "sample_overlapping = random.sample(overlapping_data, min(10, len(overlapping_data)))"
   ]
  },
  {
   "cell_type": "code",
   "execution_count": 103,
   "metadata": {},
   "outputs": [],
   "source": [
    "def highlight_errors(text, tags):\n",
    "    highlighted = []\n",
    "    last_pos = 0\n",
    "    for tag in sorted(tags, key=lambda x: int(x['span_start'])):\n",
    "        start = int(tag['span_start'])\n",
    "        end = int(tag['span_end'])\n",
    "        highlighted.append(text[last_pos:start])\n",
    "        highlighted.append(f'<span style=\"background-color: #ff9999; border: 1px solid red\">{text[start:end]}</span>')\n",
    "        last_pos = end\n",
    "    highlighted.append(text[last_pos:])\n",
    "    return ''.join(highlighted)"
   ]
  },
  {
   "cell_type": "code",
   "execution_count": 105,
   "metadata": {},
   "outputs": [
    {
     "name": "stdout",
     "output_type": "stream",
     "text": [
      "=== Sentence-wise Data Samples ===\n"
     ]
    },
    {
     "data": {
      "text/html": [
       "<h3>Sample 1</h3>"
      ],
      "text/plain": [
       "<IPython.core.display.HTML object>"
      ]
     },
     "metadata": {},
     "output_type": "display_data"
    },
    {
     "data": {
      "text/html": [
       "<p>Overall, as we can see from the first <span style=\"background-color: #ff9999; border: 1px solid red\">table</span>, the number of boys and <span style=\"background-color: #ff9999; border: 1px solid red\">girs</span> who have some problems with their weight is almost the same during the whole period of time.</p>"
      ],
      "text/plain": [
       "<IPython.core.display.HTML object>"
      ]
     },
     "metadata": {},
     "output_type": "display_data"
    },
    {
     "data": {
      "text/html": [
       "<h3>Sample 2</h3>"
      ],
      "text/plain": [
       "<IPython.core.display.HTML object>"
      ]
     },
     "metadata": {},
     "output_type": "display_data"
    },
    {
     "data": {
      "text/html": [
       "<p>To conclude, the graph's data <span style=\"background-color: #ff9999; border: 1px solid red\">crealy</span> compares the difference in earnings between male and female workers in differnt countries and shows that all the countries illustrate quite similar picture: the difference had significantly fell in 15 years which works good for the problem of <span style=\"background-color: #ff9999; border: 1px solid red\">inuguality</span> of men and women.</p>"
      ],
      "text/plain": [
       "<IPython.core.display.HTML object>"
      ]
     },
     "metadata": {},
     "output_type": "display_data"
    },
    {
     "data": {
      "text/html": [
       "<h3>Sample 3</h3>"
      ],
      "text/plain": [
       "<IPython.core.display.HTML object>"
      ]
     },
     "metadata": {},
     "output_type": "display_data"
    },
    {
     "data": {
      "text/html": [
       "<p><span style=\"background-color: #ff9999; border: 1px solid red\">Services</span> sector has simmilar quantities for both genders.</p>"
      ],
      "text/plain": [
       "<IPython.core.display.HTML object>"
      ]
     },
     "metadata": {},
     "output_type": "display_data"
    },
    {
     "data": {
      "text/html": [
       "<h3>Sample 4</h3>"
      ],
      "text/plain": [
       "<IPython.core.display.HTML object>"
      ]
     },
     "metadata": {},
     "output_type": "display_data"
    },
    {
     "data": {
      "text/html": [
       "<p>To sum up, the proportion of population aged 65 and over <span style=\"background-color: #ff9999; border: 1px solid red\">is rising</span> during the last four decades <span style=\"background-color: #ff9999; border: 1px solid red\">in</span> 2040 Japan will have the most one.</p>"
      ],
      "text/plain": [
       "<IPython.core.display.HTML object>"
      ]
     },
     "metadata": {},
     "output_type": "display_data"
    },
    {
     "data": {
      "text/html": [
       "<h3>Sample 5</h3>"
      ],
      "text/plain": [
       "<IPython.core.display.HTML object>"
      ]
     },
     "metadata": {},
     "output_type": "display_data"
    },
    {
     "data": {
      "text/html": [
       "<p>35% and 25% respectively, which in sum gives as 60%, more than <span style=\"background-color: #ff9999; border: 1px solid red\">a half</span>.</p>"
      ],
      "text/plain": [
       "<IPython.core.display.HTML object>"
      ]
     },
     "metadata": {},
     "output_type": "display_data"
    },
    {
     "data": {
      "text/html": [
       "<h3>Sample 6</h3>"
      ],
      "text/plain": [
       "<IPython.core.display.HTML object>"
      ]
     },
     "metadata": {},
     "output_type": "display_data"
    },
    {
     "data": {
      "text/html": [
       "<p>In <span style=\"background-color: #ff9999; border: 1px solid red\">comnclusion</span>, the the only thing to say is that doing regular physical activity does not removes extra mass, because both percentages were increasing from 1990 to 2005 in Canada.</p>"
      ],
      "text/plain": [
       "<IPython.core.display.HTML object>"
      ]
     },
     "metadata": {},
     "output_type": "display_data"
    },
    {
     "data": {
      "text/html": [
       "<h3>Sample 7</h3>"
      ],
      "text/plain": [
       "<IPython.core.display.HTML object>"
      ]
     },
     "metadata": {},
     "output_type": "display_data"
    },
    {
     "data": {
      "text/html": [
       "<p>As can be seen from the graph USA and UK have the <span style=\"background-color: #ff9999; border: 1px solid red\">simillar</span> result and their liness gradual decrease.</p>"
      ],
      "text/plain": [
       "<IPython.core.display.HTML object>"
      ]
     },
     "metadata": {},
     "output_type": "display_data"
    },
    {
     "data": {
      "text/html": [
       "<h3>Sample 8</h3>"
      ],
      "text/plain": [
       "<IPython.core.display.HTML object>"
      ]
     },
     "metadata": {},
     "output_type": "display_data"
    },
    {
     "data": {
      "text/html": [
       "<p>The popularity of reading periodicals <span style=\"background-color: #ff9999; border: 1px solid red\">has decreased</span> dramatically <span style=\"background-color: #ff9999; border: 1px solid red\">during</span> these ten years and <span style=\"background-color: #ff9999; border: 1px solid red\">has reached</span> the <span style=\"background-color: #ff9999; border: 1px solid red\">number</span> of 5% in 2000, while the number of people who used libraries for their studies <span style=\"background-color: #ff9999; border: 1px solid red\">has also declined</span> from 10% to only 2% in 1990 and 2000 respectively.</p>"
      ],
      "text/plain": [
       "<IPython.core.display.HTML object>"
      ]
     },
     "metadata": {},
     "output_type": "display_data"
    },
    {
     "data": {
      "text/html": [
       "<h3>Sample 9</h3>"
      ],
      "text/plain": [
       "<IPython.core.display.HTML object>"
      ]
     },
     "metadata": {},
     "output_type": "display_data"
    },
    {
     "data": {
      "text/html": [
       "<p><span style=\"background-color: #ff9999; border: 1px solid red\">And</span> <span style=\"background-color: #ff9999; border: 1px solid red\">to</span> the end of the <span style=\"background-color: #ff9999; border: 1px solid red\">Year</span> <span style=\"background-color: #ff9999; border: 1px solid red\">temperature</span> <span style=\"background-color: #ff9999; border: 1px solid red\">fall</span> to -40 degrees.</p>"
      ],
      "text/plain": [
       "<IPython.core.display.HTML object>"
      ]
     },
     "metadata": {},
     "output_type": "display_data"
    },
    {
     "data": {
      "text/html": [
       "<h3>Sample 10</h3>"
      ],
      "text/plain": [
       "<IPython.core.display.HTML object>"
      ]
     },
     "metadata": {},
     "output_type": "display_data"
    },
    {
     "data": {
      "text/html": [
       "<p><span style=\"background-color: #ff9999; border: 1px solid red\">Of course</span>, the percentage of people who <span style=\"background-color: #ff9999; border: 1px solid red\">have</span> Internet in urban areas <span style=\"background-color: #ff9999; border: 1px solid red\">is</span> <span style=\"background-color: #ff9999; border: 1px solid red\">highter</span>.</p>"
      ],
      "text/plain": [
       "<IPython.core.display.HTML object>"
      ]
     },
     "metadata": {},
     "output_type": "display_data"
    }
   ],
   "source": [
    "print(\"=== Sentence-wise Data Samples ===\")\n",
    "for i, item in enumerate(sample_sentencewise):\n",
    "    display(HTML(f\"<h3>Sample {i+1}</h3>\"))\n",
    "    display(HTML(f\"<p>{highlight_errors(item['text'], item['tags'])}</p>\"))"
   ]
  },
  {
   "cell_type": "code",
   "execution_count": 108,
   "metadata": {},
   "outputs": [
    {
     "name": "stdout",
     "output_type": "stream",
     "text": [
      "\n",
      "=== Overlapping Data Samples ===\n"
     ]
    },
    {
     "data": {
      "text/html": [
       "<h3>Sample 1</h3>"
      ],
      "text/plain": [
       "<IPython.core.display.HTML object>"
      ]
     },
     "metadata": {},
     "output_type": "display_data"
    },
    {
     "data": {
      "text/html": [
       "<p><span style=\"background-color: #ff9999; border: 1px solid red\">Less</span><span style=\"background-color: #ff9999; border: 1px solid red\">Less amount</span> <span style=\"background-color: #ff9999; border: 1px solid red\">had</span> <span style=\"background-color: #ff9999; border: 1px solid red\">metals</span> <span style=\"background-color: #ff9999; border: 1px solid red\">equal</span> 11 percent<span style=\"background-color: #ff9999; border: 1px solid red\">, that</span> proportion was <span style=\"background-color: #ff9999; border: 1px solid red\">significant</span> less than in the first chart.</p>"
      ],
      "text/plain": [
       "<IPython.core.display.HTML object>"
      ]
     },
     "metadata": {},
     "output_type": "display_data"
    },
    {
     "data": {
      "text/html": [
       "<h3>Sample 2</h3>"
      ],
      "text/plain": [
       "<IPython.core.display.HTML object>"
      ]
     },
     "metadata": {},
     "output_type": "display_data"
    },
    {
     "data": {
      "text/html": [
       "<p>In contrast, food products take about 30% in <span style=\"background-color: #ff9999; border: 1px solid red\">road transport</span><span style=\"background-color: #ff9999; border: 1px solid red\">transport</span> and just 11% in <span style=\"background-color: #ff9999; border: 1px solid red\">rail one</span>.</p>"
      ],
      "text/plain": [
       "<IPython.core.display.HTML object>"
      ]
     },
     "metadata": {},
     "output_type": "display_data"
    },
    {
     "data": {
      "text/html": [
       "<h3>Sample 3</h3>"
      ],
      "text/plain": [
       "<IPython.core.display.HTML object>"
      ]
     },
     "metadata": {},
     "output_type": "display_data"
    },
    {
     "data": {
      "text/html": [
       "<p>As we can see, <span style=\"background-color: #ff9999; border: 1px solid red\">there</span> almost no changes in <span style=\"background-color: #ff9999; border: 1px solid red\">a number</span> of <span style=\"background-color: #ff9999; border: 1px solid red\">evolved</span><span style=\"background-color: #ff9999; border: 1px solid red\">evolved people</span>, only the eldest age category became 2 times less.</p>"
      ],
      "text/plain": [
       "<IPython.core.display.HTML object>"
      ]
     },
     "metadata": {},
     "output_type": "display_data"
    },
    {
     "data": {
      "text/html": [
       "<h3>Sample 4</h3>"
      ],
      "text/plain": [
       "<IPython.core.display.HTML object>"
      ]
     },
     "metadata": {},
     "output_type": "display_data"
    },
    {
     "data": {
      "text/html": [
       "<p>Its proportion started to go up in the 1990, however, we are to see the dramatic change from 2010 as well as from 2020 in the USA after 40 years of <span style=\"background-color: #ff9999; border: 1px solid red\">stabilityon</span><span style=\"background-color: #ff9999; border: 1px solid red\">stabilityon</span> the <span style=\"background-color: #ff9999; border: 1px solid red\">poin</span> of 15 percent.</p>"
      ],
      "text/plain": [
       "<IPython.core.display.HTML object>"
      ]
     },
     "metadata": {},
     "output_type": "display_data"
    },
    {
     "data": {
      "text/html": [
       "<h3>Sample 5</h3>"
      ],
      "text/plain": [
       "<IPython.core.display.HTML object>"
      ]
     },
     "metadata": {},
     "output_type": "display_data"
    },
    {
     "data": {
      "text/html": [
       "<p>It is clear that the <span style=\"background-color: #ff9999; border: 1px solid red\">per cent</span> of females <span style=\"background-color: #ff9999; border: 1px solid red\">outweighted</span><span style=\"background-color: #ff9999; border: 1px solid red\">outweighted</span> <span style=\"background-color: #ff9999; border: 1px solid red\">than males</span> in undergraduate diploma and Bachelor's degree.</p>"
      ],
      "text/plain": [
       "<IPython.core.display.HTML object>"
      ]
     },
     "metadata": {},
     "output_type": "display_data"
    },
    {
     "data": {
      "text/html": [
       "<h3>Sample 6</h3>"
      ],
      "text/plain": [
       "<IPython.core.display.HTML object>"
      ]
     },
     "metadata": {},
     "output_type": "display_data"
    },
    {
     "data": {
      "text/html": [
       "<p>While <span style=\"background-color: #ff9999; border: 1px solid red\">minimum temperature</span> <span style=\"background-color: #ff9999; border: 1px solid red\">constituted</span><span style=\"background-color: #ff9999; border: 1px solid red\">constituted</span> 17°C in Rio de <span style=\"background-color: #ff9999; border: 1px solid red\">Janeiro</span> this <span style=\"background-color: #ff9999; border: 1px solid red\">rate</span> <span style=\"background-color: #ff9999; border: 1px solid red\">accounted for</span><span style=\"background-color: #ff9999; border: 1px solid red\">accounted for</span> 10°C in Yakutsk.</p>"
      ],
      "text/plain": [
       "<IPython.core.display.HTML object>"
      ]
     },
     "metadata": {},
     "output_type": "display_data"
    },
    {
     "data": {
      "text/html": [
       "<h3>Sample 7</h3>"
      ],
      "text/plain": [
       "<IPython.core.display.HTML object>"
      ]
     },
     "metadata": {},
     "output_type": "display_data"
    },
    {
     "data": {
      "text/html": [
       "<p>On <span style=\"background-color: #ff9999; border: 1px solid red\">grafs</span><span style=\"background-color: #ff9999; border: 1px solid red\">grafs</span> we can see <span style=\"background-color: #ff9999; border: 1px solid red\">some difference</span> between Yakutsk and Rio de Janeiro.</p>"
      ],
      "text/plain": [
       "<IPython.core.display.HTML object>"
      ]
     },
     "metadata": {},
     "output_type": "display_data"
    },
    {
     "data": {
      "text/html": [
       "<h3>Sample 8</h3>"
      ],
      "text/plain": [
       "<IPython.core.display.HTML object>"
      ]
     },
     "metadata": {},
     "output_type": "display_data"
    },
    {
     "data": {
      "text/html": [
       "<p>The information is given in <span style=\"background-color: #ff9999; border: 1px solid red\">percents</span><span style=\"background-color: #ff9999; border: 1px solid red\">percents</span><span style=\"background-color: #ff9999; border: 1px solid red\">percents</span>.</p>"
      ],
      "text/plain": [
       "<IPython.core.display.HTML object>"
      ]
     },
     "metadata": {},
     "output_type": "display_data"
    },
    {
     "data": {
      "text/html": [
       "<h3>Sample 9</h3>"
      ],
      "text/plain": [
       "<IPython.core.display.HTML object>"
      ]
     },
     "metadata": {},
     "output_type": "display_data"
    },
    {
     "data": {
      "text/html": [
       "<p>The <span style=\"background-color: #ff9999; border: 1px solid red\">quantity</span> of unemployment <span style=\"background-color: #ff9999; border: 1px solid red\">reduce</span> <span style=\"background-color: #ff9999; border: 1px solid red\">on 1%</span> in Latin America (<span style=\"background-color: #ff9999; border: 1px solid red\">6,8%</span><span style=\"background-color: #ff9999; border: 1px solid red\">6,8%</span> to <span style=\"background-color: #ff9999; border: 1px solid red\">5,8%</span>).</p>"
      ],
      "text/plain": [
       "<IPython.core.display.HTML object>"
      ]
     },
     "metadata": {},
     "output_type": "display_data"
    },
    {
     "data": {
      "text/html": [
       "<h3>Sample 10</h3>"
      ],
      "text/plain": [
       "<IPython.core.display.HTML object>"
      ]
     },
     "metadata": {},
     "output_type": "display_data"
    },
    {
     "data": {
      "text/html": [
       "<p><span style=\"background-color: #ff9999; border: 1px solid red\">Nevertheless</span> <span style=\"background-color: #ff9999; border: 1px solid red\">agriculture branch</span> was in the middle between the previous ones, <span style=\"background-color: #ff9999; border: 1px solid red\">male workers are well under female,</span> 29 <span style=\"background-color: #ff9999; border: 1px solid red\">percents</span><span style=\"background-color: #ff9999; border: 1px solid red\">percents</span><span style=\"background-color: #ff9999; border: 1px solid red\">percents</span><span style=\"background-color: #ff9999; border: 1px solid red\">,</span> <span style=\"background-color: #ff9999; border: 1px solid red\">while</span> <span style=\"background-color: #ff9999; border: 1px solid red\">female 43</span>.</p>"
      ],
      "text/plain": [
       "<IPython.core.display.HTML object>"
      ]
     },
     "metadata": {},
     "output_type": "display_data"
    }
   ],
   "source": [
    "print(\"\\n=== Overlapping Data Samples ===\")\n",
    "for i, item in enumerate(sample_overlapping):\n",
    "    display(HTML(f\"<h3>Sample {i+1}</h3>\"))\n",
    "    display(HTML(f\"<p>{highlight_errors(item['text'], item['tags'])}</p>\"))"
   ]
  },
  {
   "cell_type": "markdown",
   "metadata": {},
   "source": [
    "Looks nice."
   ]
  },
  {
   "cell_type": "code",
   "execution_count": 109,
   "metadata": {},
   "outputs": [],
   "source": [
    "def get_tag_distributions(data):\n",
    "    first_level = {}\n",
    "    second_level = {}\n",
    "    for item in data:\n",
    "        for tag in item['tags']:\n",
    "            first_level[tag['first_level_tag']] = first_level.get(tag['first_level_tag'], 0) + 1\n",
    "            second_level[tag['second_level_tag']] = second_level.get(tag['second_level_tag'], 0) + 1\n",
    "    return first_level, second_level"
   ]
  },
  {
   "cell_type": "code",
   "execution_count": 110,
   "metadata": {},
   "outputs": [],
   "source": [
    "first_sentencewise, second_sentencewise = get_tag_distributions(sentencewise_data)\n",
    "first_overlapping, second_overlapping = get_tag_distributions(overlapping_data)"
   ]
  },
  {
   "cell_type": "code",
   "execution_count": 117,
   "metadata": {},
   "outputs": [
    {
     "data": {
      "image/png": "[encoded data removed]",
      "text/plain": [
       "<Figure size 640x480 with 1 Axes>"
      ]
     },
     "metadata": {},
     "output_type": "display_data"
    }
   ],
   "source": [
    "plt.pie(first_sentencewise.values(), labels=first_sentencewise.keys(), autopct='%1.1f%%')\n",
    "plt.title('Sentencewise - First Level Tags')\n",
    "plt.show()"
   ]
  },
  {
   "cell_type": "code",
   "execution_count": 114,
   "metadata": {},
   "outputs": [
    {
     "data": {
      "image/png": "[encoded data removed]",
      "text/plain": [
       "<Figure size 640x480 with 1 Axes>"
      ]
     },
     "metadata": {},
     "output_type": "display_data"
    }
   ],
   "source": [
    "plt.pie(second_sentencewise.values(), labels=second_sentencewise.keys(), autopct='%1.1f%%')\n",
    "plt.title('Sentencewise - Second Level Tags')\n",
    "plt.show()"
   ]
  },
  {
   "cell_type": "code",
   "execution_count": 115,
   "metadata": {},
   "outputs": [
    {
     "data": {
      "image/png": "[encoded data removed]",
      "text/plain": [
       "<Figure size 640x480 with 1 Axes>"
      ]
     },
     "metadata": {},
     "output_type": "display_data"
    }
   ],
   "source": [
    "plt.pie(first_overlapping.values(), labels=first_overlapping.keys(), autopct='%1.1f%%')\n",
    "plt.title('Overlapping - First Level Tags')\n",
    "plt.show()"
   ]
  },
  {
   "cell_type": "code",
   "execution_count": 116,
   "metadata": {},
   "outputs": [
    {
     "data": {
      "image/png": "[encoded data removed]",
      "text/plain": [
       "<Figure size 640x480 with 1 Axes>"
      ]
     },
     "metadata": {},
     "output_type": "display_data"
    }
   ],
   "source": [
    "plt.pie(second_overlapping.values(), labels=second_overlapping.keys(), autopct='%1.1f%%')\n",
    "plt.title('Overlapping - Second Level Tags')\n",
    "plt.show()"
   ]
  },
  {
   "cell_type": "markdown",
   "metadata": {},
   "source": [
    "## SpaCy"
   ]
  },
  {
   "cell_type": "code",
   "execution_count": 118,
   "metadata": {},
   "outputs": [],
   "source": [
    "import spacy\n",
    "from spacy.tokens import DocBin\n",
    "from spacy.tokens import SpanGroup\n",
    "import random\n",
    "import json\n",
    "from collections import Counter\n",
    "import matplotlib.pyplot as plt\n",
    "import spacy_transformers\n",
    "from spacy import displacy"
   ]
  },
  {
   "cell_type": "code",
   "execution_count": 119,
   "metadata": {},
   "outputs": [],
   "source": [
    "nlp = spacy.blank(\"en\")\n",
    "output_spacy_file = \"sentences_binary.spacy\""
   ]
  },
  {
   "cell_type": "code",
   "execution_count": 120,
   "metadata": {},
   "outputs": [],
   "source": [
    "doc_bin = DocBin()"
   ]
  },
  {
   "cell_type": "code",
   "execution_count": 121,
   "metadata": {},
   "outputs": [
    {
     "name": "stdout",
     "output_type": "stream",
     "text": [
      "62827\n"
     ]
    }
   ],
   "source": [
    "counter = 0\n",
    "for entry in sentencewise_data:\n",
    "    if entry['tags']:\n",
    "        for mistake in entry['tags']:\n",
    "             if mistake['first_level_tag']:\n",
    "                 counter+=1\n",
    "print(counter)"
   ]
  },
  {
   "cell_type": "code",
   "execution_count": 122,
   "metadata": {},
   "outputs": [],
   "source": [
    "counter = 0\n",
    "for entry in sentencewise_data:\n",
    "    try:\n",
    "        text = entry[\"text\"]\n",
    "        annotations = entry[\"tags\"]\n",
    "        doc = nlp(text)\n",
    "        spans = []\n",
    "        for ann in annotations:\n",
    "            start, end = int(ann[\"span_start\"]), int(ann[\"span_end\"])\n",
    "            label = \"ERROR\"\n",
    "            span = doc.char_span(start, end, label=label)\n",
    "            spans.append(span)\n",
    "        group = SpanGroup(doc, name=\"sc\", spans=spans)\n",
    "        doc.spans[\"sc\"] = group\n",
    "        doc_bin.add(doc)\n",
    "        counter+=len(annotations)\n",
    "    except:\n",
    "        pass\n",
    "doc_bin.to_disk(output_spacy_file)"
   ]
  },
  {
   "cell_type": "code",
   "execution_count": 123,
   "metadata": {},
   "outputs": [
    {
     "data": {
      "text/plain": [
       "62773"
      ]
     },
     "execution_count": 123,
     "metadata": {},
     "output_type": "execute_result"
    }
   ],
   "source": [
    "counter"
   ]
  },
  {
   "cell_type": "code",
   "execution_count": 124,
   "metadata": {},
   "outputs": [],
   "source": [
    "train_ratio = 0.7\n",
    "dev_ratio = 0.2\n",
    "test_ratio = 0.1"
   ]
  },
  {
   "cell_type": "code",
   "execution_count": 127,
   "metadata": {},
   "outputs": [],
   "source": [
    "docs = list(doc_bin.get_docs(nlp.vocab))"
   ]
  },
  {
   "cell_type": "code",
   "execution_count": 128,
   "metadata": {},
   "outputs": [],
   "source": [
    "total_docs = len(docs)\n",
    "train_end = int(total_docs * train_ratio)\n",
    "dev_end = train_end + int(total_docs * dev_ratio)"
   ]
  },
  {
   "cell_type": "code",
   "execution_count": 129,
   "metadata": {},
   "outputs": [],
   "source": [
    "train_docs = docs[:train_end]\n",
    "dev_docs = docs[train_end:dev_end]\n",
    "test_docs = docs[dev_end:]"
   ]
  },
  {
   "cell_type": "code",
   "execution_count": 130,
   "metadata": {},
   "outputs": [],
   "source": [
    "output_files = {\n",
    "    \"train.spacy\": train_docs,\n",
    "    \"dev.spacy\": dev_docs,\n",
    "    \"test.spacy\": test_docs\n",
    "}"
   ]
  },
  {
   "cell_type": "code",
   "execution_count": 131,
   "metadata": {},
   "outputs": [],
   "source": [
    "for filename, doc_subset in output_files.items():\n",
    "    doc_bin_subset = DocBin()\n",
    "    for doc in doc_subset:\n",
    "        doc_bin_subset.add(doc)\n",
    "    doc_bin_subset.to_disk(filename)"
   ]
  },
  {
   "cell_type": "code",
   "execution_count": 133,
   "metadata": {},
   "outputs": [
    {
     "name": "stdout",
     "output_type": "stream",
     "text": [
      "\u001b[38;5;4mℹ Generated config template specific for your use case\u001b[0m\n",
      "- Language: en\n",
      "- Pipeline: spancat\n",
      "- Optimize for: efficiency\n",
      "- Hardware: GPU\n",
      "- Transformer: roberta-base\n",
      "\u001b[38;5;2m✔ Auto-filled config with all values\u001b[0m\n",
      "\u001b[38;5;2m✔ Saved config\u001b[0m\n",
      "/home/zlovoblachko/diploma/spacy_training/config.cfg\n",
      "You can now add your data and train your pipeline:\n",
      "python -m spacy train config.cfg --paths.train ./train.spacy --paths.dev ./dev.spacy\n"
     ]
    }
   ],
   "source": [
    "!python -m spacy init config /home/zlovoblachko/diploma/spacy_training/config.cfg --pipeline transformer,spancat --gpu --force"
   ]
  },
  {
   "cell_type": "code",
   "execution_count": 135,
   "metadata": {},
   "outputs": [
    {
     "name": "stdout",
     "output_type": "stream",
     "text": [
      "\u001b[1m\n",
      "============================ Data file validation ============================\u001b[0m\n",
      "Some weights of RobertaModel were not initialized from the model checkpoint at roberta-base and are newly initialized: ['roberta.pooler.dense.bias', 'roberta.pooler.dense.weight']\n",
      "You should probably TRAIN this model on a down-stream task to be able to use it for predictions and inference.\n",
      "\u001b[38;5;2m✔ Pipeline can be initialized with data\u001b[0m\n",
      "\u001b[38;5;2m✔ Corpus is loadable\u001b[0m\n",
      "\u001b[1m\n",
      "=============================== Training stats ===============================\u001b[0m\n",
      "Language: en\n",
      "Training pipeline: transformer, spancat\n",
      "24893 training docs\n",
      "7112 evaluation docs\n",
      "\u001b[38;5;3m⚠ 1 training examples also in evaluation data\u001b[0m\n",
      "\u001b[1m\n",
      "============================== Vocab & Vectors ==============================\u001b[0m\n",
      "\u001b[38;5;4mℹ 591789 total word(s) in the data (12668 unique)\u001b[0m\n",
      "\u001b[38;5;4mℹ No word vectors present in the package\u001b[0m\n",
      "\u001b[1m\n",
      "============================ Span Categorization ============================\u001b[0m\n",
      "\n",
      "Spans Key   Labels   \n",
      "---------   ---------\n",
      "sc          {'ERROR'}\n",
      "\n",
      "huggingface/tokenizers: The current process just got forked, after parallelism has already been used. Disabling parallelism to avoid deadlocks...\n",
      "To disable this warning, you can either:\n",
      "\t- Avoid using `tokenizers` before the fork if possible\n",
      "\t- Explicitly set the environment variable TOKENIZERS_PARALLELISM=(true | false)\n",
      "\u001b[2K\u001b[38;5;3m⚠ No examples for texts WITHOUT new label 'ERROR'\u001b[0m\n",
      "huggingface/tokenizers: The current process just got forked, after parallelism has already been used. Disabling parallelism to avoid deadlocks...\n",
      "To disable this warning, you can either:\n",
      "\t- Avoid using `tokenizers` before the fork if possible\n",
      "\t- Explicitly set the environment variable TOKENIZERS_PARALLELISM=(true | false)\n",
      "\u001b[2K\u001b[38;5;4mℹ Span characteristics for spans_key 'sc'\u001b[0m\n",
      "\u001b[38;5;4mℹ SD = Span Distinctiveness, BD = Boundary Distinctiveness\u001b[0m\n",
      "\n",
      "Span Type      Length     SD     BD       N\n",
      "------------   ------   ----   ----   -----\n",
      "ERROR            1.29   0.51   0.17   43858\n",
      "------------   ------   ----   ----   -----\n",
      "Wgt. Average     1.29   0.51   0.17       -\n",
      "\n",
      "\u001b[38;5;4mℹ Over 90% of spans have lengths of 1 -- 3 (min=1, max=40). The most\n",
      "common span lengths are: 1 (73.25%), 2 (16.31%), 3 (6.06%). If you are using the\n",
      "n-gram suggester, note that omitting infrequent n-gram lengths can greatly\n",
      "improve speed and memory usage.\u001b[0m\n",
      "\u001b[38;5;3m⚠ Spans may not be distinct from the rest of the corpus\u001b[0m\n",
      "\u001b[38;5;3m⚠ Boundary tokens are not distinct from the rest of the corpus\u001b[0m\n",
      "\u001b[38;5;2m✔ Good amount of examples for all labels\u001b[0m\n",
      "\u001b[1m\n",
      "================================== Summary ==================================\u001b[0m\n",
      "\u001b[38;5;2m✔ 3 checks passed\u001b[0m\n",
      "\u001b[38;5;3m⚠ 4 warnings\u001b[0m\n"
     ]
    }
   ],
   "source": [
    "!python -m spacy debug data /home/zlovoblachko/GD_correction_diploma/spacy_training/config.cfg"
   ]
  },
  {
   "cell_type": "code",
   "execution_count": 138,
   "metadata": {},
   "outputs": [
    {
     "data": {
      "text/html": [
       "<h3>Sample 1</h3>"
      ],
      "text/plain": [
       "<IPython.core.display.HTML object>"
      ]
     },
     "metadata": {},
     "output_type": "display_data"
    },
    {
     "data": {
      "text/html": [
       "<p>The bar chart <span style=\"background-color: #ffcc99; border: 1px solid orange; font-weight: bold\">highlights</span><sup style=\"color: green\">[ERROR]</sup> the data about how many children <span style=\"background-color: #ffcc99; border: 1px solid orange; font-weight: bold\">hadn't got</span><sup style=\"color: green\">[ERROR]</sup> access to primary school education over the period from 2000 to 2012.</p>"
      ],
      "text/plain": [
       "<IPython.core.display.HTML object>"
      ]
     },
     "metadata": {},
     "output_type": "display_data"
    },
    {
     "data": {
      "text/html": [
       "<table border='1'><tr><th>Text</th><th>Label</th><th>Start</th><th>End</th></tr><tr><td>highlights</td><td>ERROR</td><td>14</td><td>24</td></tr><tr><td>hadn't got</td><td>ERROR</td><td>58</td><td>68</td></tr></table>"
      ],
      "text/plain": [
       "<IPython.core.display.HTML object>"
      ]
     },
     "metadata": {},
     "output_type": "display_data"
    },
    {
     "data": {
      "text/html": [
       "<hr>"
      ],
      "text/plain": [
       "<IPython.core.display.HTML object>"
      ]
     },
     "metadata": {},
     "output_type": "display_data"
    },
    {
     "data": {
      "text/html": [
       "<h3>Sample 2</h3>"
      ],
      "text/plain": [
       "<IPython.core.display.HTML object>"
      ]
     },
     "metadata": {},
     "output_type": "display_data"
    },
    {
     "data": {
      "text/html": [
       "<p>The chart give use information about changes in the use of Facebook in the period from to 2013, and show <span style=\"background-color: #ffcc99; border: 1px solid orange; font-weight: bold\">resons</span><sup style=\"color: green\">[ERROR]</sup> for using in among men and women.</p>"
      ],
      "text/plain": [
       "<IPython.core.display.HTML object>"
      ]
     },
     "metadata": {},
     "output_type": "display_data"
    },
    {
     "data": {
      "text/html": [
       "<table border='1'><tr><th>Text</th><th>Label</th><th>Start</th><th>End</th></tr><tr><td>resons</td><td>ERROR</td><td>105</td><td>111</td></tr></table>"
      ],
      "text/plain": [
       "<IPython.core.display.HTML object>"
      ]
     },
     "metadata": {},
     "output_type": "display_data"
    },
    {
     "data": {
      "text/html": [
       "<hr>"
      ],
      "text/plain": [
       "<IPython.core.display.HTML object>"
      ]
     },
     "metadata": {},
     "output_type": "display_data"
    },
    {
     "data": {
      "text/html": [
       "<h3>Sample 3</h3>"
      ],
      "text/plain": [
       "<IPython.core.display.HTML object>"
      ]
     },
     "metadata": {},
     "output_type": "display_data"
    },
    {
     "data": {
      "text/html": [
       "<p>So, <span style=\"background-color: #ffcc99; border: 1px solid orange; font-weight: bold\">government</span><sup style=\"color: green\">[ERROR]</sup> should correct this situation by the <span style=\"background-color: #ffcc99; border: 1px solid orange; font-weight: bold\">nay</span><sup style=\"color: green\">[ERROR]</sup> of dotations to <span style=\"background-color: #ffcc99; border: 1px solid orange; font-weight: bold\">going</span><sup style=\"color: green\">[ERROR]</sup> families.</p>"
      ],
      "text/plain": [
       "<IPython.core.display.HTML object>"
      ]
     },
     "metadata": {},
     "output_type": "display_data"
    },
    {
     "data": {
      "text/html": [
       "<table border='1'><tr><th>Text</th><th>Label</th><th>Start</th><th>End</th></tr><tr><td>nay</td><td>ERROR</td><td>52</td><td>55</td></tr><tr><td>government</td><td>ERROR</td><td>4</td><td>14</td></tr><tr><td>going</td><td>ERROR</td><td>72</td><td>77</td></tr></table>"
      ],
      "text/plain": [
       "<IPython.core.display.HTML object>"
      ]
     },
     "metadata": {},
     "output_type": "display_data"
    },
    {
     "data": {
      "text/html": [
       "<hr>"
      ],
      "text/plain": [
       "<IPython.core.display.HTML object>"
      ]
     },
     "metadata": {},
     "output_type": "display_data"
    },
    {
     "data": {
      "text/html": [
       "<h3>Sample 4</h3>"
      ],
      "text/plain": [
       "<IPython.core.display.HTML object>"
      ]
     },
     "metadata": {},
     "output_type": "display_data"
    },
    {
     "data": {
      "text/html": [
       "<p>In conclusion, the main particle of this <span style=\"background-color: #ffcc99; border: 1px solid orange; font-weight: bold\">bars</span><sup style=\"color: green\">[ERROR]</sup> is that <span style=\"background-color: #ffcc99; border: 1px solid orange; font-weight: bold\">woman</span><sup style=\"color: green\">[ERROR]</sup> state in every reason bigger than same for men.</p>"
      ],
      "text/plain": [
       "<IPython.core.display.HTML object>"
      ]
     },
     "metadata": {},
     "output_type": "display_data"
    },
    {
     "data": {
      "text/html": [
       "<table border='1'><tr><th>Text</th><th>Label</th><th>Start</th><th>End</th></tr><tr><td>bars</td><td>ERROR</td><td>41</td><td>45</td></tr><tr><td>woman</td><td>ERROR</td><td>54</td><td>59</td></tr></table>"
      ],
      "text/plain": [
       "<IPython.core.display.HTML object>"
      ]
     },
     "metadata": {},
     "output_type": "display_data"
    },
    {
     "data": {
      "text/html": [
       "<hr>"
      ],
      "text/plain": [
       "<IPython.core.display.HTML object>"
      ]
     },
     "metadata": {},
     "output_type": "display_data"
    },
    {
     "data": {
      "text/html": [
       "<h3>Sample 5</h3>"
      ],
      "text/plain": [
       "<IPython.core.display.HTML object>"
      ]
     },
     "metadata": {},
     "output_type": "display_data"
    },
    {
     "data": {
      "text/html": [
       "<p>Looking at the details, the number of <span style=\"background-color: #ffcc99; border: 1px solid orange; font-weight: bold\">minuts</span><sup style=\"color: green\">[ERROR]</sup> men aged 16 to 24 devoted to sports was 282,1, then it decreased sharply to 153,8 <span style=\"background-color: #ffcc99; border: 1px solid orange; font-weight: bold\">in ages</span><sup style=\"color: green\">[ERROR]</sup> <span style=\"background-color: #ffcc99; border: 1px solid orange; font-weight: bold\">between 25 and 34</span><sup style=\"color: green\">[ERROR]</sup>, and after that it began to decrease smoothly to 114,2 around the age of 50.</p>"
      ],
      "text/plain": [
       "<IPython.core.display.HTML object>"
      ]
     },
     "metadata": {},
     "output_type": "display_data"
    },
    {
     "data": {
      "text/html": [
       "<table border='1'><tr><th>Text</th><th>Label</th><th>Start</th><th>End</th></tr><tr><td>minuts</td><td>ERROR</td><td>38</td><td>44</td></tr><tr><td>in ages</td><td>ERROR</td><td>127</td><td>134</td></tr><tr><td>between 25 and 34</td><td>ERROR</td><td>135</td><td>152</td></tr></table>"
      ],
      "text/plain": [
       "<IPython.core.display.HTML object>"
      ]
     },
     "metadata": {},
     "output_type": "display_data"
    },
    {
     "data": {
      "text/html": [
       "<hr>"
      ],
      "text/plain": [
       "<IPython.core.display.HTML object>"
      ]
     },
     "metadata": {},
     "output_type": "display_data"
    },
    {
     "data": {
      "text/html": [
       "<h3>Sample 6</h3>"
      ],
      "text/plain": [
       "<IPython.core.display.HTML object>"
      ]
     },
     "metadata": {},
     "output_type": "display_data"
    },
    {
     "data": {
      "text/html": [
       "<p>We see that <span style=\"background-color: #ffcc99; border: 1px solid orange; font-weight: bold\">people among 65 and more years</span><sup style=\"color: green\">[ERROR]</sup> are not active users of these three networks, but still <span style=\"background-color: #ffcc99; border: 1px solid orange; font-weight: bold\">percentage</span><sup style=\"color: green\">[ERROR]</sup> <span style=\"background-color: #ffcc99; border: 1px solid orange; font-weight: bold\">on Facebook</span><sup style=\"color: green\">[ERROR]</sup>, which reaches even 56 percent, is higher than <span style=\"background-color: #ffcc99; border: 1px solid orange; font-weight: bold\">on</span><sup style=\"color: green\">[ERROR]</sup> Instagram <span style=\"background-color: #ffcc99; border: 1px solid orange; font-weight: bold\">and</span><sup style=\"color: green\">[ERROR]</sup> <span style=\"background-color: #ffcc99; border: 1px solid orange; font-weight: bold\">Linkedln</span><sup style=\"color: green\">[ERROR]</sup>.</p>"
      ],
      "text/plain": [
       "<IPython.core.display.HTML object>"
      ]
     },
     "metadata": {},
     "output_type": "display_data"
    },
    {
     "data": {
      "text/html": [
       "<table border='1'><tr><th>Text</th><th>Label</th><th>Start</th><th>End</th></tr><tr><td>Linkedln</td><td>ERROR</td><td>186</td><td>194</td></tr><tr><td>people among 65 and more years</td><td>ERROR</td><td>12</td><td>42</td></tr><tr><td>on Facebook</td><td>ERROR</td><td>110</td><td>121</td></tr><tr><td>percentage</td><td>ERROR</td><td>99</td><td>109</td></tr><tr><td>on</td><td>ERROR</td><td>169</td><td>171</td></tr><tr><td>and</td><td>ERROR</td><td>182</td><td>185</td></tr></table>"
      ],
      "text/plain": [
       "<IPython.core.display.HTML object>"
      ]
     },
     "metadata": {},
     "output_type": "display_data"
    },
    {
     "data": {
      "text/html": [
       "<hr>"
      ],
      "text/plain": [
       "<IPython.core.display.HTML object>"
      ]
     },
     "metadata": {},
     "output_type": "display_data"
    },
    {
     "data": {
      "text/html": [
       "<h3>Sample 7</h3>"
      ],
      "text/plain": [
       "<IPython.core.display.HTML object>"
      ]
     },
     "metadata": {},
     "output_type": "display_data"
    },
    {
     "data": {
      "text/html": [
       "<p>An <span style=\"background-color: #ffcc99; border: 1px solid orange; font-weight: bold\">investement</span><sup style=\"color: green\">[ERROR]</sup> in developed countries in 2006 was 55 Bn.</p>"
      ],
      "text/plain": [
       "<IPython.core.display.HTML object>"
      ]
     },
     "metadata": {},
     "output_type": "display_data"
    },
    {
     "data": {
      "text/html": [
       "<table border='1'><tr><th>Text</th><th>Label</th><th>Start</th><th>End</th></tr><tr><td>investement</td><td>ERROR</td><td>3</td><td>14</td></tr></table>"
      ],
      "text/plain": [
       "<IPython.core.display.HTML object>"
      ]
     },
     "metadata": {},
     "output_type": "display_data"
    },
    {
     "data": {
      "text/html": [
       "<hr>"
      ],
      "text/plain": [
       "<IPython.core.display.HTML object>"
      ]
     },
     "metadata": {},
     "output_type": "display_data"
    },
    {
     "data": {
      "text/html": [
       "<h3>Sample 8</h3>"
      ],
      "text/plain": [
       "<IPython.core.display.HTML object>"
      ]
     },
     "metadata": {},
     "output_type": "display_data"
    },
    {
     "data": {
      "text/html": [
       "<p>As for <span style=\"background-color: #ffcc99; border: 1px solid orange; font-weight: bold\">american</span><sup style=\"color: green\">[ERROR]</sup> cities, Washington's passengers use metro system in 3 times more than the Los Angeles dwellers.</p>"
      ],
      "text/plain": [
       "<IPython.core.display.HTML object>"
      ]
     },
     "metadata": {},
     "output_type": "display_data"
    },
    {
     "data": {
      "text/html": [
       "<table border='1'><tr><th>Text</th><th>Label</th><th>Start</th><th>End</th></tr><tr><td>american</td><td>ERROR</td><td>7</td><td>15</td></tr></table>"
      ],
      "text/plain": [
       "<IPython.core.display.HTML object>"
      ]
     },
     "metadata": {},
     "output_type": "display_data"
    },
    {
     "data": {
      "text/html": [
       "<hr>"
      ],
      "text/plain": [
       "<IPython.core.display.HTML object>"
      ]
     },
     "metadata": {},
     "output_type": "display_data"
    },
    {
     "data": {
      "text/html": [
       "<h3>Sample 9</h3>"
      ],
      "text/plain": [
       "<IPython.core.display.HTML object>"
      ]
     },
     "metadata": {},
     "output_type": "display_data"
    },
    {
     "data": {
      "text/html": [
       "<p>Metals occupy the largest part of the chart of goods transported by rail, while <span style=\"background-color: #ffcc99; border: 1px solid orange; font-weight: bold\">chart</span><sup style=\"color: green\">[ERROR]</sup> of goods transported by road mainly consist of food manufactured products.</p>"
      ],
      "text/plain": [
       "<IPython.core.display.HTML object>"
      ]
     },
     "metadata": {},
     "output_type": "display_data"
    },
    {
     "data": {
      "text/html": [
       "<table border='1'><tr><th>Text</th><th>Label</th><th>Start</th><th>End</th></tr><tr><td>chart</td><td>ERROR</td><td>80</td><td>85</td></tr></table>"
      ],
      "text/plain": [
       "<IPython.core.display.HTML object>"
      ]
     },
     "metadata": {},
     "output_type": "display_data"
    },
    {
     "data": {
      "text/html": [
       "<hr>"
      ],
      "text/plain": [
       "<IPython.core.display.HTML object>"
      ]
     },
     "metadata": {},
     "output_type": "display_data"
    },
    {
     "data": {
      "text/html": [
       "<h3>Sample 10</h3>"
      ],
      "text/plain": [
       "<IPython.core.display.HTML object>"
      ]
     },
     "metadata": {},
     "output_type": "display_data"
    },
    {
     "data": {
      "text/html": [
       "<p>Overall, it is seen that men <span style=\"background-color: #ffcc99; border: 1px solid orange; font-weight: bold\">tend</span><sup style=\"color: green\">[ERROR]</sup> to <span style=\"background-color: #ffcc99; border: 1px solid orange; font-weight: bold\">have</span><sup style=\"color: green\">[ERROR]</sup> more <span style=\"background-color: #ffcc99; border: 1px solid orange; font-weight: bold\">exercises</span><sup style=\"color: green\">[ERROR]</sup> in comparison to women, although both groups converge gradually with the growth of <span style=\"background-color: #ffcc99; border: 1px solid orange; font-weight: bold\">the age</span><sup style=\"color: green\">[ERROR]</sup>.</p>"
      ],
      "text/plain": [
       "<IPython.core.display.HTML object>"
      ]
     },
     "metadata": {},
     "output_type": "display_data"
    },
    {
     "data": {
      "text/html": [
       "<table border='1'><tr><th>Text</th><th>Label</th><th>Start</th><th>End</th></tr><tr><td>have</td><td>ERROR</td><td>37</td><td>41</td></tr><tr><td>exercises</td><td>ERROR</td><td>47</td><td>56</td></tr><tr><td>tend</td><td>ERROR</td><td>29</td><td>33</td></tr><tr><td>the age</td><td>ERROR</td><td>140</td><td>147</td></tr></table>"
      ],
      "text/plain": [
       "<IPython.core.display.HTML object>"
      ]
     },
     "metadata": {},
     "output_type": "display_data"
    },
    {
     "data": {
      "text/html": [
       "<hr>"
      ],
      "text/plain": [
       "<IPython.core.display.HTML object>"
      ]
     },
     "metadata": {},
     "output_type": "display_data"
    }
   ],
   "source": [
    "import spacy\n",
    "import random\n",
    "from spacy.tokens import DocBin\n",
    "from IPython.display import display, HTML\n",
    "\n",
    "def load_spacy_file(file_path):\n",
    "    nlp = spacy.blank(\"en\")\n",
    "    doc_bin = DocBin().from_disk(file_path)\n",
    "    return list(doc_bin.get_docs(nlp.vocab))\n",
    "\n",
    "def visualize_spans(doc, span_key=\"sc\"):\n",
    "    if not doc.spans.get(span_key):\n",
    "        return doc.text\n",
    "    \n",
    "    html = []\n",
    "    last_pos = 0\n",
    "    # Sort spans by their start position\n",
    "    spans = sorted(doc.spans[span_key], key=lambda x: x.start)\n",
    "    for span in spans:\n",
    "        html.append(doc.text[last_pos:span.start_char])\n",
    "        html.append(f'<span style=\"background-color: #ffcc99; border: 1px solid orange; font-weight: bold\">{doc.text[span.start_char:span.end_char]}</span>')\n",
    "        html.append(f'<sup style=\"color: green\">[{span.label_}]</sup>')\n",
    "        last_pos = span.end_char\n",
    "    html.append(doc.text[last_pos:])\n",
    "    return ''.join(html)\n",
    "\n",
    "def visualize_random_spans(file_path, num_samples=10, span_key=\"sc\"):\n",
    "    docs = load_spacy_file(file_path)\n",
    "    \n",
    "    if len(docs) < num_samples:\n",
    "        print(f\"Warning: Only {len(docs)} documents found, showing all\")\n",
    "        samples = docs\n",
    "    else:\n",
    "        samples = random.sample(docs, num_samples)\n",
    "    \n",
    "    for i, doc in enumerate(samples, 1):\n",
    "        display(HTML(f\"<h3>Sample {i}</h3>\"))\n",
    "        display(HTML(f\"<p>{visualize_spans(doc, span_key)}</p>\"))\n",
    "        \n",
    "        if doc.spans.get(span_key):\n",
    "            table = [\"<table border='1'><tr><th>Text</th><th>Label</th><th>Start</th><th>End</th></tr>\"]\n",
    "            for span in doc.spans[span_key]:\n",
    "                table.append(f\"<tr><td>{span.text}</td><td>{span.label_}</td><td>{span.start_char}</td><td>{span.end_char}</td></tr>\")\n",
    "            table.append(\"</table>\")\n",
    "            display(HTML(''.join(table)))\n",
    "        else:\n",
    "            display(HTML(f\"<p>No spans found with key '{span_key}' in this sample</p>\"))\n",
    "        display(HTML(\"<hr>\"))\n",
    "\n",
    "visualize_random_spans(\"/home/zlovoblachko/GD_correction_diploma/data_preparation/train.spacy\", span_key=\"sc\")"
   ]
  },
  {
   "cell_type": "code",
   "execution_count": null,
   "metadata": {},
   "outputs": [],
   "source": []
  }
 ],
 "metadata": {
  "kernelspec": {
   "display_name": "local_realec",
   "language": "python",
   "name": "python3"
  },
  "language_info": {
   "codemirror_mode": {
    "name": "ipython",
    "version": 3
   },
   "file_extension": ".py",
   "mimetype": "text/x-python",
   "name": "python",
   "nbconvert_exporter": "python",
   "pygments_lexer": "ipython3",
   "version": "3.12.8"
  }
 },
 "nbformat": 4,
 "nbformat_minor": 2
}
